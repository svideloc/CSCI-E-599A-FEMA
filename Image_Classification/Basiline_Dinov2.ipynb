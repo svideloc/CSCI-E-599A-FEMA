{
  "nbformat": 4,
  "nbformat_minor": 0,
  "metadata": {
    "colab": {
      "provenance": [],
      "gpuType": "A100"
    },
    "kernelspec": {
      "name": "python3",
      "display_name": "Python 3"
    },
    "language_info": {
      "name": "python"
    },
    "accelerator": "GPU",
    "widgets": {
      "application/vnd.jupyter.widget-state+json": {
        "c832a41635574914ac910d38a951669c": {
          "model_module": "@jupyter-widgets/controls",
          "model_name": "HBoxModel",
          "model_module_version": "1.5.0",
          "state": {
            "_dom_classes": [],
            "_model_module": "@jupyter-widgets/controls",
            "_model_module_version": "1.5.0",
            "_model_name": "HBoxModel",
            "_view_count": null,
            "_view_module": "@jupyter-widgets/controls",
            "_view_module_version": "1.5.0",
            "_view_name": "HBoxView",
            "box_style": "",
            "children": [
              "IPY_MODEL_49624369064641a8b323b928508828d6",
              "IPY_MODEL_08cbc6a9022a4d9ebfdb9f04d26ccd36",
              "IPY_MODEL_64464925ddbb4d1db630ae866552cdac"
            ],
            "layout": "IPY_MODEL_0afa70d0b56c46f59be6d3fc34e8fe0c"
          }
        },
        "49624369064641a8b323b928508828d6": {
          "model_module": "@jupyter-widgets/controls",
          "model_name": "HTMLModel",
          "model_module_version": "1.5.0",
          "state": {
            "_dom_classes": [],
            "_model_module": "@jupyter-widgets/controls",
            "_model_module_version": "1.5.0",
            "_model_name": "HTMLModel",
            "_view_count": null,
            "_view_module": "@jupyter-widgets/controls",
            "_view_module_version": "1.5.0",
            "_view_name": "HTMLView",
            "description": "",
            "description_tooltip": null,
            "layout": "IPY_MODEL_8774fe72a0a84f97bdf5b28520548fb5",
            "placeholder": "​",
            "style": "IPY_MODEL_5b8a25c3e2554c65a71ed1413b3498ad",
            "value": "Resolving data files: 100%"
          }
        },
        "08cbc6a9022a4d9ebfdb9f04d26ccd36": {
          "model_module": "@jupyter-widgets/controls",
          "model_name": "FloatProgressModel",
          "model_module_version": "1.5.0",
          "state": {
            "_dom_classes": [],
            "_model_module": "@jupyter-widgets/controls",
            "_model_module_version": "1.5.0",
            "_model_name": "FloatProgressModel",
            "_view_count": null,
            "_view_module": "@jupyter-widgets/controls",
            "_view_module_version": "1.5.0",
            "_view_name": "ProgressView",
            "bar_style": "success",
            "description": "",
            "description_tooltip": null,
            "layout": "IPY_MODEL_6bdf690ec6c241acba201b5c0b61010a",
            "max": 41,
            "min": 0,
            "orientation": "horizontal",
            "style": "IPY_MODEL_dcd382c5bfaa49c899983ed1bd8da5e2",
            "value": 41
          }
        },
        "64464925ddbb4d1db630ae866552cdac": {
          "model_module": "@jupyter-widgets/controls",
          "model_name": "HTMLModel",
          "model_module_version": "1.5.0",
          "state": {
            "_dom_classes": [],
            "_model_module": "@jupyter-widgets/controls",
            "_model_module_version": "1.5.0",
            "_model_name": "HTMLModel",
            "_view_count": null,
            "_view_module": "@jupyter-widgets/controls",
            "_view_module_version": "1.5.0",
            "_view_name": "HTMLView",
            "description": "",
            "description_tooltip": null,
            "layout": "IPY_MODEL_ee636c3c7d1f496eb6a5a60c53344e4f",
            "placeholder": "​",
            "style": "IPY_MODEL_502cc781046c47b692ba7de761ced366",
            "value": " 41/41 [00:00&lt;00:00,  8.21it/s]"
          }
        },
        "0afa70d0b56c46f59be6d3fc34e8fe0c": {
          "model_module": "@jupyter-widgets/base",
          "model_name": "LayoutModel",
          "model_module_version": "1.2.0",
          "state": {
            "_model_module": "@jupyter-widgets/base",
            "_model_module_version": "1.2.0",
            "_model_name": "LayoutModel",
            "_view_count": null,
            "_view_module": "@jupyter-widgets/base",
            "_view_module_version": "1.2.0",
            "_view_name": "LayoutView",
            "align_content": null,
            "align_items": null,
            "align_self": null,
            "border": null,
            "bottom": null,
            "display": null,
            "flex": null,
            "flex_flow": null,
            "grid_area": null,
            "grid_auto_columns": null,
            "grid_auto_flow": null,
            "grid_auto_rows": null,
            "grid_column": null,
            "grid_gap": null,
            "grid_row": null,
            "grid_template_areas": null,
            "grid_template_columns": null,
            "grid_template_rows": null,
            "height": null,
            "justify_content": null,
            "justify_items": null,
            "left": null,
            "margin": null,
            "max_height": null,
            "max_width": null,
            "min_height": null,
            "min_width": null,
            "object_fit": null,
            "object_position": null,
            "order": null,
            "overflow": null,
            "overflow_x": null,
            "overflow_y": null,
            "padding": null,
            "right": null,
            "top": null,
            "visibility": null,
            "width": null
          }
        },
        "8774fe72a0a84f97bdf5b28520548fb5": {
          "model_module": "@jupyter-widgets/base",
          "model_name": "LayoutModel",
          "model_module_version": "1.2.0",
          "state": {
            "_model_module": "@jupyter-widgets/base",
            "_model_module_version": "1.2.0",
            "_model_name": "LayoutModel",
            "_view_count": null,
            "_view_module": "@jupyter-widgets/base",
            "_view_module_version": "1.2.0",
            "_view_name": "LayoutView",
            "align_content": null,
            "align_items": null,
            "align_self": null,
            "border": null,
            "bottom": null,
            "display": null,
            "flex": null,
            "flex_flow": null,
            "grid_area": null,
            "grid_auto_columns": null,
            "grid_auto_flow": null,
            "grid_auto_rows": null,
            "grid_column": null,
            "grid_gap": null,
            "grid_row": null,
            "grid_template_areas": null,
            "grid_template_columns": null,
            "grid_template_rows": null,
            "height": null,
            "justify_content": null,
            "justify_items": null,
            "left": null,
            "margin": null,
            "max_height": null,
            "max_width": null,
            "min_height": null,
            "min_width": null,
            "object_fit": null,
            "object_position": null,
            "order": null,
            "overflow": null,
            "overflow_x": null,
            "overflow_y": null,
            "padding": null,
            "right": null,
            "top": null,
            "visibility": null,
            "width": null
          }
        },
        "5b8a25c3e2554c65a71ed1413b3498ad": {
          "model_module": "@jupyter-widgets/controls",
          "model_name": "DescriptionStyleModel",
          "model_module_version": "1.5.0",
          "state": {
            "_model_module": "@jupyter-widgets/controls",
            "_model_module_version": "1.5.0",
            "_model_name": "DescriptionStyleModel",
            "_view_count": null,
            "_view_module": "@jupyter-widgets/base",
            "_view_module_version": "1.2.0",
            "_view_name": "StyleView",
            "description_width": ""
          }
        },
        "6bdf690ec6c241acba201b5c0b61010a": {
          "model_module": "@jupyter-widgets/base",
          "model_name": "LayoutModel",
          "model_module_version": "1.2.0",
          "state": {
            "_model_module": "@jupyter-widgets/base",
            "_model_module_version": "1.2.0",
            "_model_name": "LayoutModel",
            "_view_count": null,
            "_view_module": "@jupyter-widgets/base",
            "_view_module_version": "1.2.0",
            "_view_name": "LayoutView",
            "align_content": null,
            "align_items": null,
            "align_self": null,
            "border": null,
            "bottom": null,
            "display": null,
            "flex": null,
            "flex_flow": null,
            "grid_area": null,
            "grid_auto_columns": null,
            "grid_auto_flow": null,
            "grid_auto_rows": null,
            "grid_column": null,
            "grid_gap": null,
            "grid_row": null,
            "grid_template_areas": null,
            "grid_template_columns": null,
            "grid_template_rows": null,
            "height": null,
            "justify_content": null,
            "justify_items": null,
            "left": null,
            "margin": null,
            "max_height": null,
            "max_width": null,
            "min_height": null,
            "min_width": null,
            "object_fit": null,
            "object_position": null,
            "order": null,
            "overflow": null,
            "overflow_x": null,
            "overflow_y": null,
            "padding": null,
            "right": null,
            "top": null,
            "visibility": null,
            "width": null
          }
        },
        "dcd382c5bfaa49c899983ed1bd8da5e2": {
          "model_module": "@jupyter-widgets/controls",
          "model_name": "ProgressStyleModel",
          "model_module_version": "1.5.0",
          "state": {
            "_model_module": "@jupyter-widgets/controls",
            "_model_module_version": "1.5.0",
            "_model_name": "ProgressStyleModel",
            "_view_count": null,
            "_view_module": "@jupyter-widgets/base",
            "_view_module_version": "1.2.0",
            "_view_name": "StyleView",
            "bar_color": null,
            "description_width": ""
          }
        },
        "ee636c3c7d1f496eb6a5a60c53344e4f": {
          "model_module": "@jupyter-widgets/base",
          "model_name": "LayoutModel",
          "model_module_version": "1.2.0",
          "state": {
            "_model_module": "@jupyter-widgets/base",
            "_model_module_version": "1.2.0",
            "_model_name": "LayoutModel",
            "_view_count": null,
            "_view_module": "@jupyter-widgets/base",
            "_view_module_version": "1.2.0",
            "_view_name": "LayoutView",
            "align_content": null,
            "align_items": null,
            "align_self": null,
            "border": null,
            "bottom": null,
            "display": null,
            "flex": null,
            "flex_flow": null,
            "grid_area": null,
            "grid_auto_columns": null,
            "grid_auto_flow": null,
            "grid_auto_rows": null,
            "grid_column": null,
            "grid_gap": null,
            "grid_row": null,
            "grid_template_areas": null,
            "grid_template_columns": null,
            "grid_template_rows": null,
            "height": null,
            "justify_content": null,
            "justify_items": null,
            "left": null,
            "margin": null,
            "max_height": null,
            "max_width": null,
            "min_height": null,
            "min_width": null,
            "object_fit": null,
            "object_position": null,
            "order": null,
            "overflow": null,
            "overflow_x": null,
            "overflow_y": null,
            "padding": null,
            "right": null,
            "top": null,
            "visibility": null,
            "width": null
          }
        },
        "502cc781046c47b692ba7de761ced366": {
          "model_module": "@jupyter-widgets/controls",
          "model_name": "DescriptionStyleModel",
          "model_module_version": "1.5.0",
          "state": {
            "_model_module": "@jupyter-widgets/controls",
            "_model_module_version": "1.5.0",
            "_model_name": "DescriptionStyleModel",
            "_view_count": null,
            "_view_module": "@jupyter-widgets/base",
            "_view_module_version": "1.2.0",
            "_view_name": "StyleView",
            "description_width": ""
          }
        },
        "83a95913f0234db8b973cf47ced32aca": {
          "model_module": "@jupyter-widgets/controls",
          "model_name": "HBoxModel",
          "model_module_version": "1.5.0",
          "state": {
            "_dom_classes": [],
            "_model_module": "@jupyter-widgets/controls",
            "_model_module_version": "1.5.0",
            "_model_name": "HBoxModel",
            "_view_count": null,
            "_view_module": "@jupyter-widgets/controls",
            "_view_module_version": "1.5.0",
            "_view_name": "HBoxView",
            "box_style": "",
            "children": [
              "IPY_MODEL_7f7498f8cf394fee84ffd8b0e399a055",
              "IPY_MODEL_36d5a58fe3d845a9bd3bb64bb792b175",
              "IPY_MODEL_1e98a5c071414d669a7af4708a1a7cf0"
            ],
            "layout": "IPY_MODEL_ebf1f0b4ec0c4704b26978dbbda422d2"
          }
        },
        "7f7498f8cf394fee84ffd8b0e399a055": {
          "model_module": "@jupyter-widgets/controls",
          "model_name": "HTMLModel",
          "model_module_version": "1.5.0",
          "state": {
            "_dom_classes": [],
            "_model_module": "@jupyter-widgets/controls",
            "_model_module_version": "1.5.0",
            "_model_name": "HTMLModel",
            "_view_count": null,
            "_view_module": "@jupyter-widgets/controls",
            "_view_module_version": "1.5.0",
            "_view_name": "HTMLView",
            "description": "",
            "description_tooltip": null,
            "layout": "IPY_MODEL_c5eb5028a2c64502a19a56aab1c72aa9",
            "placeholder": "​",
            "style": "IPY_MODEL_521d081c2a32445dbbe33140ab83ffef",
            "value": "Resolving data files: 100%"
          }
        },
        "36d5a58fe3d845a9bd3bb64bb792b175": {
          "model_module": "@jupyter-widgets/controls",
          "model_name": "FloatProgressModel",
          "model_module_version": "1.5.0",
          "state": {
            "_dom_classes": [],
            "_model_module": "@jupyter-widgets/controls",
            "_model_module_version": "1.5.0",
            "_model_name": "FloatProgressModel",
            "_view_count": null,
            "_view_module": "@jupyter-widgets/controls",
            "_view_module_version": "1.5.0",
            "_view_name": "ProgressView",
            "bar_style": "success",
            "description": "",
            "description_tooltip": null,
            "layout": "IPY_MODEL_0520d682bb00417689b02c2b44478aba",
            "max": 41,
            "min": 0,
            "orientation": "horizontal",
            "style": "IPY_MODEL_f563b2a65e594939bb68c2314db263a2",
            "value": 41
          }
        },
        "1e98a5c071414d669a7af4708a1a7cf0": {
          "model_module": "@jupyter-widgets/controls",
          "model_name": "HTMLModel",
          "model_module_version": "1.5.0",
          "state": {
            "_dom_classes": [],
            "_model_module": "@jupyter-widgets/controls",
            "_model_module_version": "1.5.0",
            "_model_name": "HTMLModel",
            "_view_count": null,
            "_view_module": "@jupyter-widgets/controls",
            "_view_module_version": "1.5.0",
            "_view_name": "HTMLView",
            "description": "",
            "description_tooltip": null,
            "layout": "IPY_MODEL_2a11912339c7456aaf635f84f1ac3bc5",
            "placeholder": "​",
            "style": "IPY_MODEL_88a0208805744c9a8c42419632c3cb7d",
            "value": " 41/41 [00:00&lt;00:00, 3418.27it/s]"
          }
        },
        "ebf1f0b4ec0c4704b26978dbbda422d2": {
          "model_module": "@jupyter-widgets/base",
          "model_name": "LayoutModel",
          "model_module_version": "1.2.0",
          "state": {
            "_model_module": "@jupyter-widgets/base",
            "_model_module_version": "1.2.0",
            "_model_name": "LayoutModel",
            "_view_count": null,
            "_view_module": "@jupyter-widgets/base",
            "_view_module_version": "1.2.0",
            "_view_name": "LayoutView",
            "align_content": null,
            "align_items": null,
            "align_self": null,
            "border": null,
            "bottom": null,
            "display": null,
            "flex": null,
            "flex_flow": null,
            "grid_area": null,
            "grid_auto_columns": null,
            "grid_auto_flow": null,
            "grid_auto_rows": null,
            "grid_column": null,
            "grid_gap": null,
            "grid_row": null,
            "grid_template_areas": null,
            "grid_template_columns": null,
            "grid_template_rows": null,
            "height": null,
            "justify_content": null,
            "justify_items": null,
            "left": null,
            "margin": null,
            "max_height": null,
            "max_width": null,
            "min_height": null,
            "min_width": null,
            "object_fit": null,
            "object_position": null,
            "order": null,
            "overflow": null,
            "overflow_x": null,
            "overflow_y": null,
            "padding": null,
            "right": null,
            "top": null,
            "visibility": null,
            "width": null
          }
        },
        "c5eb5028a2c64502a19a56aab1c72aa9": {
          "model_module": "@jupyter-widgets/base",
          "model_name": "LayoutModel",
          "model_module_version": "1.2.0",
          "state": {
            "_model_module": "@jupyter-widgets/base",
            "_model_module_version": "1.2.0",
            "_model_name": "LayoutModel",
            "_view_count": null,
            "_view_module": "@jupyter-widgets/base",
            "_view_module_version": "1.2.0",
            "_view_name": "LayoutView",
            "align_content": null,
            "align_items": null,
            "align_self": null,
            "border": null,
            "bottom": null,
            "display": null,
            "flex": null,
            "flex_flow": null,
            "grid_area": null,
            "grid_auto_columns": null,
            "grid_auto_flow": null,
            "grid_auto_rows": null,
            "grid_column": null,
            "grid_gap": null,
            "grid_row": null,
            "grid_template_areas": null,
            "grid_template_columns": null,
            "grid_template_rows": null,
            "height": null,
            "justify_content": null,
            "justify_items": null,
            "left": null,
            "margin": null,
            "max_height": null,
            "max_width": null,
            "min_height": null,
            "min_width": null,
            "object_fit": null,
            "object_position": null,
            "order": null,
            "overflow": null,
            "overflow_x": null,
            "overflow_y": null,
            "padding": null,
            "right": null,
            "top": null,
            "visibility": null,
            "width": null
          }
        },
        "521d081c2a32445dbbe33140ab83ffef": {
          "model_module": "@jupyter-widgets/controls",
          "model_name": "DescriptionStyleModel",
          "model_module_version": "1.5.0",
          "state": {
            "_model_module": "@jupyter-widgets/controls",
            "_model_module_version": "1.5.0",
            "_model_name": "DescriptionStyleModel",
            "_view_count": null,
            "_view_module": "@jupyter-widgets/base",
            "_view_module_version": "1.2.0",
            "_view_name": "StyleView",
            "description_width": ""
          }
        },
        "0520d682bb00417689b02c2b44478aba": {
          "model_module": "@jupyter-widgets/base",
          "model_name": "LayoutModel",
          "model_module_version": "1.2.0",
          "state": {
            "_model_module": "@jupyter-widgets/base",
            "_model_module_version": "1.2.0",
            "_model_name": "LayoutModel",
            "_view_count": null,
            "_view_module": "@jupyter-widgets/base",
            "_view_module_version": "1.2.0",
            "_view_name": "LayoutView",
            "align_content": null,
            "align_items": null,
            "align_self": null,
            "border": null,
            "bottom": null,
            "display": null,
            "flex": null,
            "flex_flow": null,
            "grid_area": null,
            "grid_auto_columns": null,
            "grid_auto_flow": null,
            "grid_auto_rows": null,
            "grid_column": null,
            "grid_gap": null,
            "grid_row": null,
            "grid_template_areas": null,
            "grid_template_columns": null,
            "grid_template_rows": null,
            "height": null,
            "justify_content": null,
            "justify_items": null,
            "left": null,
            "margin": null,
            "max_height": null,
            "max_width": null,
            "min_height": null,
            "min_width": null,
            "object_fit": null,
            "object_position": null,
            "order": null,
            "overflow": null,
            "overflow_x": null,
            "overflow_y": null,
            "padding": null,
            "right": null,
            "top": null,
            "visibility": null,
            "width": null
          }
        },
        "f563b2a65e594939bb68c2314db263a2": {
          "model_module": "@jupyter-widgets/controls",
          "model_name": "ProgressStyleModel",
          "model_module_version": "1.5.0",
          "state": {
            "_model_module": "@jupyter-widgets/controls",
            "_model_module_version": "1.5.0",
            "_model_name": "ProgressStyleModel",
            "_view_count": null,
            "_view_module": "@jupyter-widgets/base",
            "_view_module_version": "1.2.0",
            "_view_name": "StyleView",
            "bar_color": null,
            "description_width": ""
          }
        },
        "2a11912339c7456aaf635f84f1ac3bc5": {
          "model_module": "@jupyter-widgets/base",
          "model_name": "LayoutModel",
          "model_module_version": "1.2.0",
          "state": {
            "_model_module": "@jupyter-widgets/base",
            "_model_module_version": "1.2.0",
            "_model_name": "LayoutModel",
            "_view_count": null,
            "_view_module": "@jupyter-widgets/base",
            "_view_module_version": "1.2.0",
            "_view_name": "LayoutView",
            "align_content": null,
            "align_items": null,
            "align_self": null,
            "border": null,
            "bottom": null,
            "display": null,
            "flex": null,
            "flex_flow": null,
            "grid_area": null,
            "grid_auto_columns": null,
            "grid_auto_flow": null,
            "grid_auto_rows": null,
            "grid_column": null,
            "grid_gap": null,
            "grid_row": null,
            "grid_template_areas": null,
            "grid_template_columns": null,
            "grid_template_rows": null,
            "height": null,
            "justify_content": null,
            "justify_items": null,
            "left": null,
            "margin": null,
            "max_height": null,
            "max_width": null,
            "min_height": null,
            "min_width": null,
            "object_fit": null,
            "object_position": null,
            "order": null,
            "overflow": null,
            "overflow_x": null,
            "overflow_y": null,
            "padding": null,
            "right": null,
            "top": null,
            "visibility": null,
            "width": null
          }
        },
        "88a0208805744c9a8c42419632c3cb7d": {
          "model_module": "@jupyter-widgets/controls",
          "model_name": "DescriptionStyleModel",
          "model_module_version": "1.5.0",
          "state": {
            "_model_module": "@jupyter-widgets/controls",
            "_model_module_version": "1.5.0",
            "_model_name": "DescriptionStyleModel",
            "_view_count": null,
            "_view_module": "@jupyter-widgets/base",
            "_view_module_version": "1.2.0",
            "_view_name": "StyleView",
            "description_width": ""
          }
        },
        "e3c2bdc19ce14240b70d3d20bc55d650": {
          "model_module": "@jupyter-widgets/controls",
          "model_name": "HBoxModel",
          "model_module_version": "1.5.0",
          "state": {
            "_dom_classes": [],
            "_model_module": "@jupyter-widgets/controls",
            "_model_module_version": "1.5.0",
            "_model_name": "HBoxModel",
            "_view_count": null,
            "_view_module": "@jupyter-widgets/controls",
            "_view_module_version": "1.5.0",
            "_view_name": "HBoxView",
            "box_style": "",
            "children": [
              "IPY_MODEL_adc3c356d7474c548aaf019e14dcf998",
              "IPY_MODEL_a24af31d563247dbae29ee108a100331",
              "IPY_MODEL_9ef2dd5ea7174448a4c1ef25efc09df8"
            ],
            "layout": "IPY_MODEL_5b5287d0daae4317bb6009517a28ead7"
          }
        },
        "adc3c356d7474c548aaf019e14dcf998": {
          "model_module": "@jupyter-widgets/controls",
          "model_name": "HTMLModel",
          "model_module_version": "1.5.0",
          "state": {
            "_dom_classes": [],
            "_model_module": "@jupyter-widgets/controls",
            "_model_module_version": "1.5.0",
            "_model_name": "HTMLModel",
            "_view_count": null,
            "_view_module": "@jupyter-widgets/controls",
            "_view_module_version": "1.5.0",
            "_view_name": "HTMLView",
            "description": "",
            "description_tooltip": null,
            "layout": "IPY_MODEL_4d52c4e7a4e8461683142862655a8401",
            "placeholder": "​",
            "style": "IPY_MODEL_22a6c0659d4249e4a5887a0376265767",
            "value": "Resolving data files: 100%"
          }
        },
        "a24af31d563247dbae29ee108a100331": {
          "model_module": "@jupyter-widgets/controls",
          "model_name": "FloatProgressModel",
          "model_module_version": "1.5.0",
          "state": {
            "_dom_classes": [],
            "_model_module": "@jupyter-widgets/controls",
            "_model_module_version": "1.5.0",
            "_model_name": "FloatProgressModel",
            "_view_count": null,
            "_view_module": "@jupyter-widgets/controls",
            "_view_module_version": "1.5.0",
            "_view_name": "ProgressView",
            "bar_style": "success",
            "description": "",
            "description_tooltip": null,
            "layout": "IPY_MODEL_3ef22f8eb599472f9be4ea49f3699cba",
            "max": 41,
            "min": 0,
            "orientation": "horizontal",
            "style": "IPY_MODEL_b9d933679b0847a696512102aa589844",
            "value": 41
          }
        },
        "9ef2dd5ea7174448a4c1ef25efc09df8": {
          "model_module": "@jupyter-widgets/controls",
          "model_name": "HTMLModel",
          "model_module_version": "1.5.0",
          "state": {
            "_dom_classes": [],
            "_model_module": "@jupyter-widgets/controls",
            "_model_module_version": "1.5.0",
            "_model_name": "HTMLModel",
            "_view_count": null,
            "_view_module": "@jupyter-widgets/controls",
            "_view_module_version": "1.5.0",
            "_view_name": "HTMLView",
            "description": "",
            "description_tooltip": null,
            "layout": "IPY_MODEL_4311ba094e9a48c39c50df30dd4c80c2",
            "placeholder": "​",
            "style": "IPY_MODEL_27a034be7b6f4924a6ff638fe06db406",
            "value": " 41/41 [00:00&lt;00:00, 3308.77it/s]"
          }
        },
        "5b5287d0daae4317bb6009517a28ead7": {
          "model_module": "@jupyter-widgets/base",
          "model_name": "LayoutModel",
          "model_module_version": "1.2.0",
          "state": {
            "_model_module": "@jupyter-widgets/base",
            "_model_module_version": "1.2.0",
            "_model_name": "LayoutModel",
            "_view_count": null,
            "_view_module": "@jupyter-widgets/base",
            "_view_module_version": "1.2.0",
            "_view_name": "LayoutView",
            "align_content": null,
            "align_items": null,
            "align_self": null,
            "border": null,
            "bottom": null,
            "display": null,
            "flex": null,
            "flex_flow": null,
            "grid_area": null,
            "grid_auto_columns": null,
            "grid_auto_flow": null,
            "grid_auto_rows": null,
            "grid_column": null,
            "grid_gap": null,
            "grid_row": null,
            "grid_template_areas": null,
            "grid_template_columns": null,
            "grid_template_rows": null,
            "height": null,
            "justify_content": null,
            "justify_items": null,
            "left": null,
            "margin": null,
            "max_height": null,
            "max_width": null,
            "min_height": null,
            "min_width": null,
            "object_fit": null,
            "object_position": null,
            "order": null,
            "overflow": null,
            "overflow_x": null,
            "overflow_y": null,
            "padding": null,
            "right": null,
            "top": null,
            "visibility": null,
            "width": null
          }
        },
        "4d52c4e7a4e8461683142862655a8401": {
          "model_module": "@jupyter-widgets/base",
          "model_name": "LayoutModel",
          "model_module_version": "1.2.0",
          "state": {
            "_model_module": "@jupyter-widgets/base",
            "_model_module_version": "1.2.0",
            "_model_name": "LayoutModel",
            "_view_count": null,
            "_view_module": "@jupyter-widgets/base",
            "_view_module_version": "1.2.0",
            "_view_name": "LayoutView",
            "align_content": null,
            "align_items": null,
            "align_self": null,
            "border": null,
            "bottom": null,
            "display": null,
            "flex": null,
            "flex_flow": null,
            "grid_area": null,
            "grid_auto_columns": null,
            "grid_auto_flow": null,
            "grid_auto_rows": null,
            "grid_column": null,
            "grid_gap": null,
            "grid_row": null,
            "grid_template_areas": null,
            "grid_template_columns": null,
            "grid_template_rows": null,
            "height": null,
            "justify_content": null,
            "justify_items": null,
            "left": null,
            "margin": null,
            "max_height": null,
            "max_width": null,
            "min_height": null,
            "min_width": null,
            "object_fit": null,
            "object_position": null,
            "order": null,
            "overflow": null,
            "overflow_x": null,
            "overflow_y": null,
            "padding": null,
            "right": null,
            "top": null,
            "visibility": null,
            "width": null
          }
        },
        "22a6c0659d4249e4a5887a0376265767": {
          "model_module": "@jupyter-widgets/controls",
          "model_name": "DescriptionStyleModel",
          "model_module_version": "1.5.0",
          "state": {
            "_model_module": "@jupyter-widgets/controls",
            "_model_module_version": "1.5.0",
            "_model_name": "DescriptionStyleModel",
            "_view_count": null,
            "_view_module": "@jupyter-widgets/base",
            "_view_module_version": "1.2.0",
            "_view_name": "StyleView",
            "description_width": ""
          }
        },
        "3ef22f8eb599472f9be4ea49f3699cba": {
          "model_module": "@jupyter-widgets/base",
          "model_name": "LayoutModel",
          "model_module_version": "1.2.0",
          "state": {
            "_model_module": "@jupyter-widgets/base",
            "_model_module_version": "1.2.0",
            "_model_name": "LayoutModel",
            "_view_count": null,
            "_view_module": "@jupyter-widgets/base",
            "_view_module_version": "1.2.0",
            "_view_name": "LayoutView",
            "align_content": null,
            "align_items": null,
            "align_self": null,
            "border": null,
            "bottom": null,
            "display": null,
            "flex": null,
            "flex_flow": null,
            "grid_area": null,
            "grid_auto_columns": null,
            "grid_auto_flow": null,
            "grid_auto_rows": null,
            "grid_column": null,
            "grid_gap": null,
            "grid_row": null,
            "grid_template_areas": null,
            "grid_template_columns": null,
            "grid_template_rows": null,
            "height": null,
            "justify_content": null,
            "justify_items": null,
            "left": null,
            "margin": null,
            "max_height": null,
            "max_width": null,
            "min_height": null,
            "min_width": null,
            "object_fit": null,
            "object_position": null,
            "order": null,
            "overflow": null,
            "overflow_x": null,
            "overflow_y": null,
            "padding": null,
            "right": null,
            "top": null,
            "visibility": null,
            "width": null
          }
        },
        "b9d933679b0847a696512102aa589844": {
          "model_module": "@jupyter-widgets/controls",
          "model_name": "ProgressStyleModel",
          "model_module_version": "1.5.0",
          "state": {
            "_model_module": "@jupyter-widgets/controls",
            "_model_module_version": "1.5.0",
            "_model_name": "ProgressStyleModel",
            "_view_count": null,
            "_view_module": "@jupyter-widgets/base",
            "_view_module_version": "1.2.0",
            "_view_name": "StyleView",
            "bar_color": null,
            "description_width": ""
          }
        },
        "4311ba094e9a48c39c50df30dd4c80c2": {
          "model_module": "@jupyter-widgets/base",
          "model_name": "LayoutModel",
          "model_module_version": "1.2.0",
          "state": {
            "_model_module": "@jupyter-widgets/base",
            "_model_module_version": "1.2.0",
            "_model_name": "LayoutModel",
            "_view_count": null,
            "_view_module": "@jupyter-widgets/base",
            "_view_module_version": "1.2.0",
            "_view_name": "LayoutView",
            "align_content": null,
            "align_items": null,
            "align_self": null,
            "border": null,
            "bottom": null,
            "display": null,
            "flex": null,
            "flex_flow": null,
            "grid_area": null,
            "grid_auto_columns": null,
            "grid_auto_flow": null,
            "grid_auto_rows": null,
            "grid_column": null,
            "grid_gap": null,
            "grid_row": null,
            "grid_template_areas": null,
            "grid_template_columns": null,
            "grid_template_rows": null,
            "height": null,
            "justify_content": null,
            "justify_items": null,
            "left": null,
            "margin": null,
            "max_height": null,
            "max_width": null,
            "min_height": null,
            "min_width": null,
            "object_fit": null,
            "object_position": null,
            "order": null,
            "overflow": null,
            "overflow_x": null,
            "overflow_y": null,
            "padding": null,
            "right": null,
            "top": null,
            "visibility": null,
            "width": null
          }
        },
        "27a034be7b6f4924a6ff638fe06db406": {
          "model_module": "@jupyter-widgets/controls",
          "model_name": "DescriptionStyleModel",
          "model_module_version": "1.5.0",
          "state": {
            "_model_module": "@jupyter-widgets/controls",
            "_model_module_version": "1.5.0",
            "_model_name": "DescriptionStyleModel",
            "_view_count": null,
            "_view_module": "@jupyter-widgets/base",
            "_view_module_version": "1.2.0",
            "_view_name": "StyleView",
            "description_width": ""
          }
        }
      }
    }
  },
  "cells": [
    {
      "cell_type": "code",
      "source": [
        "# pip install optuna"
      ],
      "metadata": {
        "id": "6wuq4lJMnnQ0"
      },
      "execution_count": null,
      "outputs": []
    },
    {
      "cell_type": "code",
      "execution_count": null,
      "metadata": {
        "id": "uQyi92wtnDZU"
      },
      "outputs": [],
      "source": [
        "# pip install datasets"
      ]
    },
    {
      "cell_type": "code",
      "source": [
        "import optuna\n",
        "import torch\n",
        "from torch import nn\n",
        "from torch.utils.data import DataLoader, IterableDataset\n",
        "from transformers import AutoImageProcessor, AutoModelForImageClassification\n",
        "from sklearn.metrics import average_precision_score, precision_recall_fscore_support\n",
        "from tqdm import tqdm\n",
        "from torchvision import transforms\n",
        "import numpy as np\n",
        "from PIL import Image"
      ],
      "metadata": {
        "id": "h87TSwgZnIq_"
      },
      "execution_count": null,
      "outputs": []
    },
    {
      "cell_type": "code",
      "source": [
        "# Custom Model with Dropout\n",
        "class CustomDINOv2WithDropout(nn.Module):\n",
        "    def __init__(self, base_model, num_labels, dropout_rate=0.3):\n",
        "        super(CustomDINOv2WithDropout, self).__init__()\n",
        "        self.base_model = base_model\n",
        "        self.dropout = nn.Dropout(dropout_rate)\n",
        "        self.classifier = nn.Linear(self.base_model.config.hidden_size, num_labels)\n",
        "\n",
        "    def forward(self, pixel_values):\n",
        "        outputs = self.base_model(pixel_values=pixel_values, output_hidden_states=False)\n",
        "        pooled_output = outputs.pooler_output\n",
        "        pooled_output = self.dropout(pooled_output)\n",
        "        logits = self.classifier(pooled_output)\n",
        "        return logits\n",
        "\n",
        "\n",
        "# Multi-label Metrics\n",
        "def multi_label_metrics(logits, y_true, labels, threshold=0.5):\n",
        "    probs = torch.sigmoid(logits).cpu().numpy()\n",
        "    y_pred = probs > threshold\n",
        "\n",
        "    # Compute overall metrics\n",
        "    mean_prec, mean_rec, mean_f1, _ = precision_recall_fscore_support(\n",
        "        y_true=y_true, y_pred=y_pred, average=\"weighted\", zero_division=np.nan\n",
        "    )\n",
        "    mean_ap = average_precision_score(y_true, probs, average=\"weighted\")\n",
        "\n",
        "    # Compute label-wise metrics\n",
        "    precs, recs, f1s, _ = precision_recall_fscore_support(\n",
        "        y_true=y_true, y_pred=y_pred, average=None, zero_division=np.nan\n",
        "    )\n",
        "    aps = average_precision_score(y_true, probs, average=None)\n",
        "\n",
        "    # Combine metrics into a dictionary\n",
        "    metrics = {\n",
        "        \"mean_ap\": mean_ap,\n",
        "        \"mean_precision\": mean_prec,\n",
        "        \"mean_recall\": mean_rec,\n",
        "        \"mean_f1\": mean_f1,\n",
        "        \"label_aps\": {labels[i]: aps[i] for i in range(len(labels))},\n",
        "        \"label_f1s\": {labels[i]: f1s[i] for i in range(len(labels))}\n",
        "    }\n",
        "    return metrics\n",
        "\n",
        "\n",
        "# Dataset class\n",
        "class StreamDataset(IterableDataset):\n",
        "    def __init__(self, dataset, split_name, label_keys, image_transforms):\n",
        "        self.dataset = dataset\n",
        "        self.split_name = split_name\n",
        "        self.label_keys = label_keys\n",
        "        self.image_transforms = image_transforms\n",
        "\n",
        "    def process_item(self, item):\n",
        "        image = item[\"image\"]\n",
        "        labels = [int(item[key]) for key in self.label_keys]\n",
        "        if isinstance(image, np.ndarray):\n",
        "            image = Image.fromarray(image)\n",
        "        processed_image = self.image_transforms(image)\n",
        "        processed_labels = torch.tensor(labels, dtype=torch.float32)\n",
        "        return processed_image, processed_labels\n",
        "\n",
        "    def __iter__(self):\n",
        "        for item in self.dataset[self.split_name]:\n",
        "            yield self.process_item(item)\n",
        "\n",
        "\n",
        "# Dataset processing\n",
        "def process_dataset(\n",
        "    model, dataset, split_name, label_keys, image_transforms, optimizer=None, train=False, batch_size=8\n",
        "):\n",
        "    model.train() if train else model.eval()\n",
        "    running_loss = 0.0\n",
        "    all_logits, all_labels = [], []\n",
        "\n",
        "    processed_dataset = StreamDataset(dataset, split_name, label_keys, image_transforms)\n",
        "    loader = DataLoader(processed_dataset, batch_size=batch_size, collate_fn=lambda x: tuple(zip(*x)))\n",
        "\n",
        "    batch_count = 0\n",
        "    for batch in tqdm(loader, desc=\"Training\" if train else \"Validation\"):\n",
        "        batch_count += 1\n",
        "        batch_images, batch_labels = map(torch.stack, batch)\n",
        "        batch_images, batch_labels = batch_images.to(device), batch_labels.to(device)\n",
        "\n",
        "        if train:\n",
        "            optimizer.zero_grad()\n",
        "            with torch.cuda.amp.autocast():\n",
        "                logits = model(batch_images)\n",
        "                loss = torch.nn.BCEWithLogitsLoss()(logits, batch_labels)\n",
        "            scaler.scale(loss).backward()\n",
        "            scaler.step(optimizer)\n",
        "            scaler.update()\n",
        "            running_loss += loss.item()\n",
        "        else:\n",
        "            with torch.no_grad():\n",
        "                logits = model(batch_images)\n",
        "                loss = torch.nn.BCEWithLogitsLoss()(logits, batch_labels)\n",
        "                running_loss += loss.item()\n",
        "\n",
        "        all_logits.append(logits.detach().cpu())\n",
        "        all_labels.append(batch_labels.detach().cpu())\n",
        "\n",
        "    all_logits = torch.cat(all_logits, dim=0)\n",
        "    all_labels = torch.cat(all_labels, dim=0)\n",
        "\n",
        "    return running_loss / batch_count, all_logits, all_labels\n",
        "\n",
        "\n",
        "# Objective Function for Optuna\n",
        "def objective(trial):\n",
        "    global model, processor, device\n",
        "\n",
        "    # Hyperparameters to tune\n",
        "    lr = trial.suggest_float(\"lr\", 1e-6, 1e-3, log=True)\n",
        "    dropout_rate = trial.suggest_float(\"dropout_rate\", 0.1, 0.5)\n",
        "    batch_size = trial.suggest_int(\"batch_size\", 16, 64, step=16)\n",
        "\n",
        "    # Redefine the model with tuned dropout rate\n",
        "    model = CustomDINOv2WithDropout(base_model.base_model, num_labels=len(label_keys), dropout_rate=dropout_rate).to(device)\n",
        "    optimizer = torch.optim.AdamW(model.parameters(), lr=lr, weight_decay=1e-4)\n",
        "    scaler = torch.cuda.amp.GradScaler()\n",
        "\n",
        "    # Path to save the best model for this trial\n",
        "    trial_model_path = f\"best_model_trial_{trial.number}.pth\"\n",
        "\n",
        "    # Training Loop\n",
        "    num_epochs =5  # Shorter for tuning\n",
        "    patience, no_improvement = 3, 0\n",
        "    best_val_map = 0.0\n",
        "    accumulation_steps = max(1, 64 // batch_size)  # Simulate effective batch size of 64\n",
        "\n",
        "    for epoch in range(num_epochs):\n",
        "        print(f\"Trial {trial.number}, Epoch {epoch + 1}/{num_epochs}\")\n",
        "\n",
        "        # Training\n",
        "        model.train()\n",
        "        train_dataset = StreamDataset(ds, \"train\", label_keys, image_transforms)\n",
        "        train_loader = DataLoader(train_dataset, batch_size=batch_size, collate_fn=lambda x: tuple(zip(*x)))\n",
        "\n",
        "        train_loss = 0.0\n",
        "        optimizer.zero_grad()\n",
        "        for i, (batch_images, batch_labels) in enumerate(tqdm(train_loader, desc=\"Training\")):\n",
        "            batch_images, batch_labels = torch.stack(batch_images).to(device), torch.stack(batch_labels).to(device)\n",
        "\n",
        "            with torch.cuda.amp.autocast():\n",
        "                logits = model(batch_images)\n",
        "                loss = nn.BCEWithLogitsLoss()(logits, batch_labels)\n",
        "                loss = loss / accumulation_steps  # Normalize for gradient accumulation\n",
        "\n",
        "            scaler.scale(loss).backward()\n",
        "\n",
        "            if (i + 1) % accumulation_steps == 0 or (i + 1) == batch_size * accumulation_steps:\n",
        "                scaler.step(optimizer)\n",
        "                scaler.update()\n",
        "                optimizer.zero_grad()\n",
        "\n",
        "            train_loss += loss.item() * accumulation_steps  # De-normalize for logging\n",
        "\n",
        "        # Validation\n",
        "        val_loss, val_logits, val_labels = process_dataset(\n",
        "            model, ds, \"validation\", label_keys, image_transforms, batch_size=batch_size\n",
        "        )\n",
        "        val_metrics = multi_label_metrics(val_logits, val_labels.numpy(), label_keys)\n",
        "        print(f\"Validation Metrics (Trial {trial.number}, Epoch {epoch + 1}): {val_metrics}\")\n",
        "\n",
        "        # Log mean_ap for the trial\n",
        "        trial.report(val_metrics[\"mean_ap\"], epoch)\n",
        "        print(f\"Trial {trial.number}, Epoch {epoch + 1}: mean_ap = {val_metrics['mean_ap']:.4f}\")\n",
        "\n",
        "        # Save the best model of the trial\n",
        "        if val_metrics[\"mean_ap\"] > best_val_map:\n",
        "            best_val_map = val_metrics[\"mean_ap\"]\n",
        "            no_improvement = 0\n",
        "            torch.save(model.state_dict(), trial_model_path)\n",
        "            print(f\"Best model saved for trial {trial.number} with mAP: {best_val_map:.4f}\")\n",
        "        else:\n",
        "            no_improvement += 1\n",
        "\n",
        "        # Prune trial if mean_ap is not improving\n",
        "        if trial.should_prune():\n",
        "            raise optuna.exceptions.TrialPruned()\n",
        "\n",
        "        # Early stopping\n",
        "        if no_improvement >= patience:\n",
        "            print(f\"Trial {trial.number}: Early stopping triggered.\")\n",
        "            break\n",
        "\n",
        "        torch.cuda.empty_cache()  # Clear memory to prevent fragmentation\n",
        "\n",
        "    return best_val_map\n",
        "\n",
        "# Load dataset\n",
        "from datasets import load_dataset\n",
        "ds = load_dataset(\"MITLL/LADI-v2-dataset\", streaming=True)\n",
        "\n",
        "# Define label keys\n",
        "label_keys = [\n",
        "    'bridges_any', 'buildings_any', 'buildings_affected_or_greater',\n",
        "    'buildings_minor_or_greater', 'debris_any', 'flooding_any',\n",
        "    'flooding_structures', 'roads_any', 'roads_damage', 'trees_any',\n",
        "    'trees_damage', 'water_any'\n",
        "]\n",
        "\n",
        "# Load DINOv2 model\n",
        "model_name = \"facebook/dinov2-base\"\n",
        "processor = AutoImageProcessor.from_pretrained(model_name)\n",
        "base_model = AutoModelForImageClassification.from_pretrained(\n",
        "    model_name, ignore_mismatched_sizes=True\n",
        ")\n",
        "\n",
        "# Define transformations\n",
        "image_transforms = transforms.Compose([\n",
        "    transforms.Resize((384, 384)),\n",
        "    transforms.RandomHorizontalFlip(),\n",
        "    transforms.ColorJitter(brightness=0.2, contrast=0.2, saturation=0.2, hue=0.1),\n",
        "    transforms.ToTensor(),\n",
        "    transforms.Normalize(mean=[0.485, 0.456, 0.406], std=[0.229, 0.224, 0.225])\n",
        "])\n",
        "\n",
        "# Device and scaler\n",
        "device = torch.device(\"cuda\" if torch.cuda.is_available() else \"cpu\")\n",
        "scaler = torch.cuda.amp.GradScaler()\n",
        "\n",
        "# Run Optuna Study\n",
        "study = optuna.create_study(direction=\"maximize\")\n",
        "study.optimize(objective, n_trials=2)\n",
        "\n",
        "# Print best hyperparameters\n",
        "print(\"Best hyperparameters:\", study.best_params)\n"
      ],
      "metadata": {
        "colab": {
          "base_uri": "https://localhost:8080/",
          "height": 1000,
          "referenced_widgets": [
            "c832a41635574914ac910d38a951669c",
            "49624369064641a8b323b928508828d6",
            "08cbc6a9022a4d9ebfdb9f04d26ccd36",
            "64464925ddbb4d1db630ae866552cdac",
            "0afa70d0b56c46f59be6d3fc34e8fe0c",
            "8774fe72a0a84f97bdf5b28520548fb5",
            "5b8a25c3e2554c65a71ed1413b3498ad",
            "6bdf690ec6c241acba201b5c0b61010a",
            "dcd382c5bfaa49c899983ed1bd8da5e2",
            "ee636c3c7d1f496eb6a5a60c53344e4f",
            "502cc781046c47b692ba7de761ced366",
            "83a95913f0234db8b973cf47ced32aca",
            "7f7498f8cf394fee84ffd8b0e399a055",
            "36d5a58fe3d845a9bd3bb64bb792b175",
            "1e98a5c071414d669a7af4708a1a7cf0",
            "ebf1f0b4ec0c4704b26978dbbda422d2",
            "c5eb5028a2c64502a19a56aab1c72aa9",
            "521d081c2a32445dbbe33140ab83ffef",
            "0520d682bb00417689b02c2b44478aba",
            "f563b2a65e594939bb68c2314db263a2",
            "2a11912339c7456aaf635f84f1ac3bc5",
            "88a0208805744c9a8c42419632c3cb7d",
            "e3c2bdc19ce14240b70d3d20bc55d650",
            "adc3c356d7474c548aaf019e14dcf998",
            "a24af31d563247dbae29ee108a100331",
            "9ef2dd5ea7174448a4c1ef25efc09df8",
            "5b5287d0daae4317bb6009517a28ead7",
            "4d52c4e7a4e8461683142862655a8401",
            "22a6c0659d4249e4a5887a0376265767",
            "3ef22f8eb599472f9be4ea49f3699cba",
            "b9d933679b0847a696512102aa589844",
            "4311ba094e9a48c39c50df30dd4c80c2",
            "27a034be7b6f4924a6ff638fe06db406"
          ]
        },
        "id": "a_i70NMUnI9t",
        "outputId": "51e6ffb8-2b49-4e5f-e241-fd6f2eded9aa"
      },
      "execution_count": null,
      "outputs": [
        {
          "data": {
            "application/vnd.jupyter.widget-view+json": {
              "model_id": "c832a41635574914ac910d38a951669c",
              "version_major": 2,
              "version_minor": 0
            },
            "text/plain": [
              "Resolving data files:   0%|          | 0/41 [00:00<?, ?it/s]"
            ]
          },
          "metadata": {},
          "output_type": "display_data"
        },
        {
          "data": {
            "application/vnd.jupyter.widget-view+json": {
              "model_id": "83a95913f0234db8b973cf47ced32aca",
              "version_major": 2,
              "version_minor": 0
            },
            "text/plain": [
              "Resolving data files:   0%|          | 0/41 [00:00<?, ?it/s]"
            ]
          },
          "metadata": {},
          "output_type": "display_data"
        },
        {
          "data": {
            "application/vnd.jupyter.widget-view+json": {
              "model_id": "e3c2bdc19ce14240b70d3d20bc55d650",
              "version_major": 2,
              "version_minor": 0
            },
            "text/plain": [
              "Resolving data files:   0%|          | 0/41 [00:00<?, ?it/s]"
            ]
          },
          "metadata": {},
          "output_type": "display_data"
        },
        {
          "metadata": {
            "tags": null
          },
          "name": "stderr",
          "output_type": "stream",
          "text": [
            "Some weights of Dinov2ForImageClassification were not initialized from the model checkpoint at facebook/dinov2-base and are newly initialized: ['classifier.bias', 'classifier.weight']\n",
            "You should probably TRAIN this model on a down-stream task to be able to use it for predictions and inference.\n",
            "<ipython-input-7-0abc238c160f>:222: FutureWarning: `torch.cuda.amp.GradScaler(args...)` is deprecated. Please use `torch.amp.GradScaler('cuda', args...)` instead.\n",
            "  scaler = torch.cuda.amp.GradScaler()\n",
            "[I 2024-12-05 16:41:12,475] A new study created in memory with name: no-name-12853c83-60cb-4795-98bb-f0774facc515\n",
            "<ipython-input-7-0abc238c160f>:121: FutureWarning: `torch.cuda.amp.GradScaler(args...)` is deprecated. Please use `torch.amp.GradScaler('cuda', args...)` instead.\n",
            "  scaler = torch.cuda.amp.GradScaler()\n"
          ]
        },
        {
          "metadata": {
            "tags": null
          },
          "name": "stdout",
          "output_type": "stream",
          "text": [
            "Trial 0, Epoch 1/5\n"
          ]
        },
        {
          "metadata": {
            "tags": null
          },
          "name": "stderr",
          "output_type": "stream",
          "text": [
            "Training: 0it [00:00, ?it/s]<ipython-input-7-0abc238c160f>:145: FutureWarning: `torch.cuda.amp.autocast(args...)` is deprecated. Please use `torch.amp.autocast('cuda', args...)` instead.\n",
            "  with torch.cuda.amp.autocast():\n",
            "Training: 126it [25:05, 11.95s/it]\n",
            "Validation: 14it [03:04, 13.20s/it]\n"
          ]
        },
        {
          "metadata": {
            "tags": null
          },
          "name": "stdout",
          "output_type": "stream",
          "text": [
            "Validation Metrics (Trial 0, Epoch 1): {'mean_ap': 0.9272823797298744, 'mean_precision': 0.9190118049561841, 'mean_recall': 0.820244849208719, 'mean_f1': 0.8500201271211056, 'label_aps': {'bridges_any': 0.6939329526936089, 'buildings_any': 0.9905536989689687, 'buildings_affected_or_greater': 0.8083271453088966, 'buildings_minor_or_greater': 0.6975624959455269, 'debris_any': 0.7065526540863172, 'flooding_any': 0.8460277478991011, 'flooding_structures': 0.8088699287882628, 'roads_any': 0.9852268111565917, 'roads_damage': 0.35830053829217046, 'trees_any': 0.9948153397282482, 'trees_damage': 0.8041611675642122, 'water_any': 0.9653076216387735}, 'label_f1s': {'bridges_any': 0.5074626865671642, 'buildings_any': 0.9590865842055185, 'buildings_affected_or_greater': 0.6793650793650794, 'buildings_minor_or_greater': 0.5111111111111111, 'debris_any': 0.6258503401360545, 'flooding_any': 0.6536964980544747, 'flooding_structures': 0.5542168674698795, 'roads_any': 0.9333333333333333, 'roads_damage': 0.0, 'trees_any': 0.9715698393077874, 'trees_damage': 0.6174863387978142, 'water_any': 0.9009174311926605}}\n",
            "Trial 0, Epoch 1: mean_ap = 0.9273\n",
            "Best model saved for trial 0 with mAP: 0.9273\n",
            "Trial 0, Epoch 2/5\n"
          ]
        },
        {
          "metadata": {
            "tags": null
          },
          "name": "stderr",
          "output_type": "stream",
          "text": [
            "Training: 0it [00:00, ?it/s]<ipython-input-7-0abc238c160f>:145: FutureWarning: `torch.cuda.amp.autocast(args...)` is deprecated. Please use `torch.amp.autocast('cuda', args...)` instead.\n",
            "  with torch.cuda.amp.autocast():\n",
            "Training: 126it [24:56, 11.88s/it]\n",
            "Validation: 14it [02:54, 12.47s/it]\n"
          ]
        },
        {
          "metadata": {
            "tags": null
          },
          "name": "stdout",
          "output_type": "stream",
          "text": [
            "Validation Metrics (Trial 0, Epoch 2): {'mean_ap': 0.9420277979530379, 'mean_precision': 0.9294120505796343, 'mean_recall': 0.8474171394446103, 'mean_f1': 0.8736462171954757, 'label_aps': {'bridges_any': 0.8292579475154118, 'buildings_any': 0.9938641967645012, 'buildings_affected_or_greater': 0.84736902922533, 'buildings_minor_or_greater': 0.7429515446135834, 'debris_any': 0.7721596568894278, 'flooding_any': 0.8712689620028654, 'flooding_structures': 0.8364074109819027, 'roads_any': 0.9879511059052098, 'roads_damage': 0.47897109161271706, 'trees_any': 0.9957507698600025, 'trees_damage': 0.846608950896181, 'water_any': 0.968516558903249}, 'label_f1s': {'bridges_any': 0.7619047619047619, 'buildings_any': 0.9576669802445907, 'buildings_affected_or_greater': 0.6986301369863014, 'buildings_minor_or_greater': 0.5979381443298969, 'debris_any': 0.6131386861313869, 'flooding_any': 0.7854785478547854, 'flooding_structures': 0.7083333333333334, 'roads_any': 0.9419680403700589, 'roads_damage': 0.0, 'trees_any': 0.9726027397260274, 'trees_damage': 0.694300518134715, 'water_any': 0.9109274563820018}}\n",
            "Trial 0, Epoch 2: mean_ap = 0.9420\n",
            "Best model saved for trial 0 with mAP: 0.9420\n",
            "Trial 0, Epoch 3/5\n"
          ]
        },
        {
          "output_type": "stream",
          "name": "stderr",
          "text": [
            "Training: 0it [00:00, ?it/s]<ipython-input-7-0abc238c160f>:145: FutureWarning: `torch.cuda.amp.autocast(args...)` is deprecated. Please use `torch.amp.autocast('cuda', args...)` instead.\n",
            "  with torch.cuda.amp.autocast():\n",
            "Training: 126it [25:03, 11.93s/it]\n",
            "Validation: 14it [02:58, 12.74s/it]\n"
          ]
        },
        {
          "output_type": "stream",
          "name": "stdout",
          "text": [
            "Validation Metrics (Trial 0, Epoch 3): {'mean_ap': 0.9382066249160568, 'mean_precision': 0.9373147799976579, 'mean_recall': 0.8136757240967453, 'mean_f1': 0.8466338036285604, 'label_aps': {'bridges_any': 0.8469698802919127, 'buildings_any': 0.9905049200073197, 'buildings_affected_or_greater': 0.8394498268895761, 'buildings_minor_or_greater': 0.7301693504755356, 'debris_any': 0.7563395670620069, 'flooding_any': 0.8621265059654168, 'flooding_structures': 0.854004859196522, 'roads_any': 0.9885057249132737, 'roads_damage': 0.4782821355920136, 'trees_any': 0.9962558095903778, 'trees_damage': 0.8165845739474568, 'water_any': 0.9657363895806585}, 'label_f1s': {'bridges_any': 0.7674418604651163, 'buildings_any': 0.9577464788732394, 'buildings_affected_or_greater': 0.5791505791505791, 'buildings_minor_or_greater': 0.5, 'debris_any': 0.5511811023622047, 'flooding_any': 0.7272727272727273, 'flooding_structures': 0.627906976744186, 'roads_any': 0.9433333333333334, 'roads_damage': 0.11764705882352941, 'trees_any': 0.9743268628678773, 'trees_damage': 0.4605263157894737, 'water_any': 0.9150090415913201}}\n",
            "Trial 0, Epoch 3: mean_ap = 0.9382\n",
            "Trial 0, Epoch 4/5\n"
          ]
        },
        {
          "output_type": "stream",
          "name": "stderr",
          "text": [
            "\rTraining: 0it [00:00, ?it/s]<ipython-input-7-0abc238c160f>:145: FutureWarning: `torch.cuda.amp.autocast(args...)` is deprecated. Please use `torch.amp.autocast('cuda', args...)` instead.\n",
            "  with torch.cuda.amp.autocast():\n",
            "Training: 126it [25:03, 11.93s/it]\n",
            "Validation: 14it [03:00, 12.86s/it]\n"
          ]
        },
        {
          "output_type": "stream",
          "name": "stdout",
          "text": [
            "Validation Metrics (Trial 0, Epoch 4): {'mean_ap': 0.9382827315648609, 'mean_precision': 0.9278012392137862, 'mean_recall': 0.8253209913406987, 'mean_f1': 0.8498447450887752, 'label_aps': {'bridges_any': 0.8538227352307669, 'buildings_any': 0.9918613104374011, 'buildings_affected_or_greater': 0.8499211324624866, 'buildings_minor_or_greater': 0.7314006625857704, 'debris_any': 0.7679901295990688, 'flooding_any': 0.8523672893553609, 'flooding_structures': 0.8520456768957153, 'roads_any': 0.9885286167622683, 'roads_damage': 0.462445848926618, 'trees_any': 0.9962250447260019, 'trees_damage': 0.8087551161797981, 'water_any': 0.966567672003711}, 'label_f1s': {'bridges_any': 0.7741935483870968, 'buildings_any': 0.9612109744560076, 'buildings_affected_or_greater': 0.5962264150943396, 'buildings_minor_or_greater': 0.4523809523809524, 'debris_any': 0.6, 'flooding_any': 0.7285714285714285, 'flooding_structures': 0.6966292134831461, 'roads_any': 0.945332211942809, 'roads_damage': 0.11538461538461539, 'trees_any': 0.9758513931888545, 'trees_damage': 0.4721311475409836, 'water_any': 0.9067357512953368}}\n",
            "Trial 0, Epoch 4: mean_ap = 0.9383\n",
            "Trial 0, Epoch 5/5\n"
          ]
        },
        {
          "output_type": "stream",
          "name": "stderr",
          "text": [
            "\rTraining: 0it [00:00, ?it/s]<ipython-input-7-0abc238c160f>:145: FutureWarning: `torch.cuda.amp.autocast(args...)` is deprecated. Please use `torch.amp.autocast('cuda', args...)` instead.\n",
            "  with torch.cuda.amp.autocast():\n",
            "Training: 126it [25:02, 11.93s/it]\n",
            "Validation: 14it [02:59, 12.81s/it]\n"
          ]
        },
        {
          "output_type": "stream",
          "name": "stdout",
          "text": [
            "Validation Metrics (Trial 0, Epoch 5): {'mean_ap': 0.9461098084486654, 'mean_precision': 0.912728269460341, 'mean_recall': 0.8781725888324873, 'mean_f1': 0.8881511030554424, 'label_aps': {'bridges_any': 0.8507296408440272, 'buildings_any': 0.9926761494725256, 'buildings_affected_or_greater': 0.8784421407848622, 'buildings_minor_or_greater': 0.7625016818403271, 'debris_any': 0.7801431032188103, 'flooding_any': 0.8704667012530217, 'flooding_structures': 0.8871840849137663, 'roads_any': 0.9889979605088767, 'roads_damage': 0.5023095129434999, 'trees_any': 0.9963490335952285, 'trees_damage': 0.8527042143561635, 'water_any': 0.9674185697263653}, 'label_f1s': {'bridges_any': 0.7155963302752294, 'buildings_any': 0.9591642924976258, 'buildings_affected_or_greater': 0.7643312101910829, 'buildings_minor_or_greater': 0.5684210526315789, 'debris_any': 0.7361963190184049, 'flooding_any': 0.7722772277227723, 'flooding_structures': 0.723404255319149, 'roads_any': 0.948073701842546, 'roads_damage': 0.25, 'trees_any': 0.9745499689633768, 'trees_damage': 0.7403846153846154, 'water_any': 0.9165217391304348}}\n",
            "Trial 0, Epoch 5: mean_ap = 0.9461\n"
          ]
        },
        {
          "output_type": "stream",
          "name": "stderr",
          "text": [
            "[I 2024-12-05 19:01:24,725] Trial 0 finished with value: 0.9461098084486654 and parameters: {'lr': 7.243499683207418e-06, 'dropout_rate': 0.1535643673944425, 'batch_size': 64}. Best is trial 0 with value: 0.9461098084486654.\n",
            "<ipython-input-7-0abc238c160f>:121: FutureWarning: `torch.cuda.amp.GradScaler(args...)` is deprecated. Please use `torch.amp.GradScaler('cuda', args...)` instead.\n",
            "  scaler = torch.cuda.amp.GradScaler()\n"
          ]
        },
        {
          "output_type": "stream",
          "name": "stdout",
          "text": [
            "Best model saved for trial 0 with mAP: 0.9461\n",
            "Trial 1, Epoch 1/5\n"
          ]
        },
        {
          "output_type": "stream",
          "name": "stderr",
          "text": [
            "Training: 0it [00:00, ?it/s]<ipython-input-7-0abc238c160f>:145: FutureWarning: `torch.cuda.amp.autocast(args...)` is deprecated. Please use `torch.amp.autocast('cuda', args...)` instead.\n",
            "  with torch.cuda.amp.autocast():\n",
            "Training: 502it [25:09,  3.01s/it]\n",
            "Validation: 56it [02:59,  3.21s/it]\n"
          ]
        },
        {
          "output_type": "stream",
          "name": "stdout",
          "text": [
            "Validation Metrics (Trial 1, Epoch 1): {'mean_ap': 0.9420091799358838, 'mean_precision': 0.9094239552886978, 'mean_recall': 0.8769782024484921, 'mean_f1': 0.8864572937900483, 'label_aps': {'bridges_any': 0.8172732293891378, 'buildings_any': 0.9888126154460668, 'buildings_affected_or_greater': 0.867889537101222, 'buildings_minor_or_greater': 0.7432429356415677, 'debris_any': 0.7744057242317043, 'flooding_any': 0.8719815111327316, 'flooding_structures': 0.8500748112337257, 'roads_any': 0.9885828930757194, 'roads_damage': 0.4877165993091563, 'trees_any': 0.9966626232283229, 'trees_damage': 0.8263539225218912, 'water_any': 0.9711113053704146}, 'label_f1s': {'bridges_any': 0.6842105263157895, 'buildings_any': 0.957345971563981, 'buildings_affected_or_greater': 0.7459807073954984, 'buildings_minor_or_greater': 0.6542056074766355, 'debris_any': 0.7239263803680982, 'flooding_any': 0.782051282051282, 'flooding_structures': 0.7111111111111111, 'roads_any': 0.9422750424448217, 'roads_damage': 0.2222222222222222, 'trees_any': 0.9793362554790231, 'trees_damage': 0.7397849462365591, 'water_any': 0.9089301503094607}}\n",
            "Trial 1, Epoch 1: mean_ap = 0.9420\n",
            "Best model saved for trial 1 with mAP: 0.9420\n",
            "Trial 1, Epoch 2/5\n"
          ]
        },
        {
          "output_type": "stream",
          "name": "stderr",
          "text": [
            "Training: 0it [00:00, ?it/s]<ipython-input-7-0abc238c160f>:145: FutureWarning: `torch.cuda.amp.autocast(args...)` is deprecated. Please use `torch.amp.autocast('cuda', args...)` instead.\n",
            "  with torch.cuda.amp.autocast():\n",
            "Training: 502it [25:13,  3.01s/it]\n",
            "Validation: 56it [03:03,  3.29s/it]\n"
          ]
        },
        {
          "output_type": "stream",
          "name": "stdout",
          "text": [
            "Validation Metrics (Trial 1, Epoch 2): {'mean_ap': 0.9447671599425089, 'mean_precision': 0.899382710790785, 'mean_recall': 0.8907136458644371, 'mean_f1': 0.8906948105314657, 'label_aps': {'bridges_any': 0.8409913981809246, 'buildings_any': 0.9914172370016581, 'buildings_affected_or_greater': 0.8711467989185279, 'buildings_minor_or_greater': 0.7561484400340922, 'debris_any': 0.7913495178021519, 'flooding_any': 0.8787862482387786, 'flooding_structures': 0.8785589261895516, 'roads_any': 0.9884411719543293, 'roads_damage': 0.4497623022593617, 'trees_any': 0.9971561745023876, 'trees_damage': 0.8380520112537067, 'water_any': 0.9708829998049604}, 'label_f1s': {'bridges_any': 0.7358490566037735, 'buildings_any': 0.9612109744560076, 'buildings_affected_or_greater': 0.7492447129909365, 'buildings_minor_or_greater': 0.5894736842105263, 'debris_any': 0.6951219512195121, 'flooding_any': 0.7724550898203593, 'flooding_structures': 0.803921568627451, 'roads_any': 0.9444444444444444, 'roads_damage': 0.26666666666666666, 'trees_any': 0.980246913580247, 'trees_damage': 0.7619047619047619, 'water_any': 0.9143865842894969}}\n",
            "Trial 1, Epoch 2: mean_ap = 0.9448\n",
            "Best model saved for trial 1 with mAP: 0.9448\n",
            "Trial 1, Epoch 3/5\n"
          ]
        },
        {
          "output_type": "stream",
          "name": "stderr",
          "text": [
            "Training: 0it [00:00, ?it/s]<ipython-input-7-0abc238c160f>:145: FutureWarning: `torch.cuda.amp.autocast(args...)` is deprecated. Please use `torch.amp.autocast('cuda', args...)` instead.\n",
            "  with torch.cuda.amp.autocast():\n",
            "Training: 502it [25:20,  3.03s/it]\n",
            "Validation: 56it [02:59,  3.20s/it]\n"
          ]
        },
        {
          "output_type": "stream",
          "name": "stdout",
          "text": [
            "Validation Metrics (Trial 1, Epoch 3): {'mean_ap': 0.9410091707370805, 'mean_precision': 0.8937241511097336, 'mean_recall': 0.8966855777844133, 'mean_f1': 0.8911220877952073, 'label_aps': {'bridges_any': 0.7831663969092, 'buildings_any': 0.9916689983151098, 'buildings_affected_or_greater': 0.8687148975245242, 'buildings_minor_or_greater': 0.7527988899094158, 'debris_any': 0.7752574350884568, 'flooding_any': 0.8710479675052797, 'flooding_structures': 0.8309885766868328, 'roads_any': 0.9891705843020282, 'roads_damage': 0.4592882295490415, 'trees_any': 0.9959456596407743, 'trees_damage': 0.8368729658378681, 'water_any': 0.9647280853567688}, 'label_f1s': {'bridges_any': 0.7083333333333334, 'buildings_any': 0.9577735124760077, 'buildings_affected_or_greater': 0.7522388059701492, 'buildings_minor_or_greater': 0.6105263157894737, 'debris_any': 0.6918238993710691, 'flooding_any': 0.774869109947644, 'flooding_structures': 0.8305084745762712, 'roads_any': 0.9464882943143813, 'roads_damage': 0.4, 'trees_any': 0.9795665634674923, 'trees_damage': 0.7410526315789474, 'water_any': 0.9124668435013262}}\n",
            "Trial 1, Epoch 3: mean_ap = 0.9410\n",
            "Trial 1, Epoch 4/5\n"
          ]
        },
        {
          "output_type": "stream",
          "name": "stderr",
          "text": [
            "Training: 0it [00:00, ?it/s]<ipython-input-7-0abc238c160f>:145: FutureWarning: `torch.cuda.amp.autocast(args...)` is deprecated. Please use `torch.amp.autocast('cuda', args...)` instead.\n",
            "  with torch.cuda.amp.autocast():\n",
            "Training: 502it [25:16,  3.02s/it]\n",
            "Validation: 56it [03:03,  3.27s/it]\n"
          ]
        },
        {
          "output_type": "stream",
          "name": "stdout",
          "text": [
            "Validation Metrics (Trial 1, Epoch 4): {'mean_ap': 0.9439633020934596, 'mean_precision': 0.8824050422791313, 'mean_recall': 0.9098238280083607, 'mean_f1': 0.8920493432167201, 'label_aps': {'bridges_any': 0.8342723712466737, 'buildings_any': 0.9926156637739627, 'buildings_affected_or_greater': 0.8780435926382222, 'buildings_minor_or_greater': 0.7527124715066782, 'debris_any': 0.7804759117358534, 'flooding_any': 0.8666195262157244, 'flooding_structures': 0.8462178705570731, 'roads_any': 0.9874138948489448, 'roads_damage': 0.477330926231008, 'trees_any': 0.9966841771317309, 'trees_damage': 0.8467721648420558, 'water_any': 0.9681891005736539}, 'label_f1s': {'bridges_any': 0.7912087912087912, 'buildings_any': 0.9642184557438794, 'buildings_affected_or_greater': 0.7849462365591398, 'buildings_minor_or_greater': 0.6542056074766355, 'debris_any': 0.73224043715847, 'flooding_any': 0.7861271676300579, 'flooding_structures': 0.8037383177570093, 'roads_any': 0.9385382059800664, 'roads_damage': 0.23728813559322035, 'trees_any': 0.975093399750934, 'trees_damage': 0.75, 'water_any': 0.9068541300527241}}\n",
            "Trial 1, Epoch 4: mean_ap = 0.9440\n",
            "Trial 1, Epoch 5/5\n"
          ]
        },
        {
          "output_type": "stream",
          "name": "stderr",
          "text": [
            "Training: 0it [00:00, ?it/s]<ipython-input-7-0abc238c160f>:145: FutureWarning: `torch.cuda.amp.autocast(args...)` is deprecated. Please use `torch.amp.autocast('cuda', args...)` instead.\n",
            "  with torch.cuda.amp.autocast():\n",
            "Training: 502it [25:11,  3.01s/it]\n",
            "Validation: 56it [03:00,  3.22s/it]\n",
            "[I 2024-12-05 21:22:44,949] Trial 1 finished with value: 0.9447671599425089 and parameters: {'lr': 5.895255252186952e-06, 'dropout_rate': 0.23042276808728862, 'batch_size': 16}. Best is trial 0 with value: 0.9461098084486654.\n"
          ]
        },
        {
          "output_type": "stream",
          "name": "stdout",
          "text": [
            "Validation Metrics (Trial 1, Epoch 5): {'mean_ap': 0.9428816703327637, 'mean_precision': 0.9045614029679381, 'mean_recall': 0.8883248730964467, 'mean_f1': 0.8889461676947279, 'label_aps': {'bridges_any': 0.819940124125014, 'buildings_any': 0.989742920070334, 'buildings_affected_or_greater': 0.86634560141319, 'buildings_minor_or_greater': 0.7694528424883759, 'debris_any': 0.7742338845621968, 'flooding_any': 0.8698350543044159, 'flooding_structures': 0.8572596373529813, 'roads_any': 0.9902560797852431, 'roads_damage': 0.5173924466689943, 'trees_any': 0.9956682593716479, 'trees_damage': 0.8355532871327611, 'water_any': 0.9661332693464975}, 'label_f1s': {'bridges_any': 0.7294117647058823, 'buildings_any': 0.9611374407582939, 'buildings_affected_or_greater': 0.7513812154696132, 'buildings_minor_or_greater': 0.6851851851851852, 'debris_any': 0.75, 'flooding_any': 0.7707006369426752, 'flooding_structures': 0.74, 'roads_any': 0.9431034482758621, 'roads_damage': 0.12, 'trees_any': 0.9756402248594629, 'trees_damage': 0.7701375245579568, 'water_any': 0.9079646017699115}}\n",
            "Trial 1, Epoch 5: mean_ap = 0.9429\n",
            "Trial 1: Early stopping triggered.\n",
            "Best hyperparameters: {'lr': 7.243499683207418e-06, 'dropout_rate': 0.1535643673944425, 'batch_size': 64}\n"
          ]
        }
      ]
    },
    {
      "cell_type": "code",
      "source": [
        "# Final Training with Best Hyperparameters\n",
        "# best_params = study.best_params\n",
        "# Manually set best parameters\n",
        "best_params = {\n",
        "    'lr': 7.243499683207418e-06,\n",
        "    'dropout_rate': 0.1535643673944425,\n",
        "    'batch_size': 64\n",
        "}\n",
        "final_model = CustomDINOv2WithDropout(base_model.base_model, num_labels=len(label_keys), dropout_rate=best_params[\"dropout_rate\"]).to(device)\n",
        "optimizer = torch.optim.AdamW(final_model.parameters(), lr=best_params[\"lr\"], weight_decay=1e-4)\n",
        "\n",
        "# Path to save the best model for final training\n",
        "final_model_path = \"/content/final_best_model.pth\"\n",
        "\n",
        "best_val_map = 0.0\n",
        "patience, no_improvement = 3, 0\n",
        "accumulation_steps = max(1, 64 // best_params[\"batch_size\"])  # Simulate effective batch size of 64\n",
        "\n",
        "for epoch in range(15):\n",
        "    print(f\"Final Training, Epoch {epoch + 1}/15\")\n",
        "\n",
        "    # Training\n",
        "    final_model.train()\n",
        "    train_loss = 0.0\n",
        "    train_dataset = StreamDataset(ds, \"train\", label_keys, image_transforms)\n",
        "    train_loader = DataLoader(train_dataset, batch_size=best_params[\"batch_size\"], collate_fn=lambda x: tuple(zip(*x)))\n",
        "\n",
        "    optimizer.zero_grad()\n",
        "    for i, (batch_images, batch_labels) in enumerate(tqdm(train_loader, desc=\"Training\")):\n",
        "        batch_images, batch_labels = torch.stack(batch_images).to(device), torch.stack(batch_labels).to(device)\n",
        "\n",
        "        with torch.cuda.amp.autocast():\n",
        "            logits = final_model(batch_images)\n",
        "            loss = nn.BCEWithLogitsLoss()(logits, batch_labels)\n",
        "            loss = loss / accumulation_steps  # Normalize for gradient accumulation\n",
        "\n",
        "        scaler.scale(loss).backward()\n",
        "\n",
        "        if (i + 1) % accumulation_steps == 0 or (i + 1) == len(train_loader):\n",
        "            scaler.step(optimizer)\n",
        "            scaler.update()\n",
        "            optimizer.zero_grad()\n",
        "\n",
        "        train_loss += loss.item() * accumulation_steps  # De-normalize for logging\n",
        "\n",
        "    # Validation\n",
        "    val_loss, val_logits, val_labels = process_dataset(\n",
        "        final_model, ds, \"validation\", label_keys, image_transforms, batch_size=best_params[\"batch_size\"]\n",
        "    )\n",
        "    val_metrics = multi_label_metrics(val_logits, val_labels.numpy(), label_keys)\n",
        "    print(f\"Validation Metrics: {val_metrics}\")\n",
        "\n",
        "    # Save the best model during final training\n",
        "    if val_metrics[\"mean_ap\"] > best_val_map:\n",
        "        best_val_map = val_metrics[\"mean_ap\"]\n",
        "        no_improvement = 0\n",
        "        torch.save(final_model.state_dict(), final_model_path)\n",
        "        print(f\"New best model saved with mAP: {best_val_map:.4f}\")\n",
        "    else:\n",
        "        no_improvement += 1\n",
        "\n",
        "    # Early stopping\n",
        "    if no_improvement >= patience:\n",
        "        print(\"Early stopping triggered during final training.\")\n",
        "        break\n",
        "\n",
        "    torch.cuda.empty_cache()  # Clear memory to prevent fragmentation\n",
        "\n",
        "\n",
        "\n"
      ],
      "metadata": {
        "colab": {
          "base_uri": "https://localhost:8080/"
        },
        "id": "fSGDjzijJs5P",
        "outputId": "1440cc60-b95a-4107-ed8c-0556b1b474d4"
      },
      "execution_count": null,
      "outputs": [
        {
          "output_type": "stream",
          "name": "stdout",
          "text": [
            "Final Training, Epoch 1/15\n"
          ]
        },
        {
          "output_type": "stream",
          "name": "stderr",
          "text": [
            "\rTraining: 0it [00:00, ?it/s]<ipython-input-8-a45078a74e44>:32: FutureWarning: `torch.cuda.amp.autocast(args...)` is deprecated. Please use `torch.amp.autocast('cuda', args...)` instead.\n",
            "  with torch.cuda.amp.autocast():\n",
            "Training: 126it [25:16, 12.03s/it]\n",
            "Validation: 8it [01:59, 14.82s/it]'(ReadTimeoutError(\"HTTPSConnectionPool(host='cdn-lfs-us-1.hf.co', port=443): Read timed out. (read timeout=10)\"), '(Request ID: 72dfea20-35ee-490f-8351-58b3aa6eaafe)')' thrown while requesting GET https://huggingface.co/datasets/MITLL/LADI-v2-dataset/resolve/5f2dbfe8c466d32edafd1bab847ec5252309acdb/data/validation/data-00025-of-00040.arrow\n",
            "WARNING:huggingface_hub.utils._http:'(ReadTimeoutError(\"HTTPSConnectionPool(host='cdn-lfs-us-1.hf.co', port=443): Read timed out. (read timeout=10)\"), '(Request ID: 72dfea20-35ee-490f-8351-58b3aa6eaafe)')' thrown while requesting GET https://huggingface.co/datasets/MITLL/LADI-v2-dataset/resolve/5f2dbfe8c466d32edafd1bab847ec5252309acdb/data/validation/data-00025-of-00040.arrow\n",
            "Retrying in 1s [Retry 1/5].\n",
            "WARNING:huggingface_hub.utils._http:Retrying in 1s [Retry 1/5].\n",
            "Validation: 14it [03:37, 15.53s/it]\n"
          ]
        },
        {
          "output_type": "stream",
          "name": "stdout",
          "text": [
            "Validation Metrics: {'mean_ap': 0.9310317999815452, 'mean_precision': 0.9222227458364122, 'mean_recall': 0.8181546730367274, 'mean_f1': 0.8444613237279097, 'label_aps': {'bridges_any': 0.772843638506266, 'buildings_any': 0.9919956946001534, 'buildings_affected_or_greater': 0.8112341181192707, 'buildings_minor_or_greater': 0.7151842344671382, 'debris_any': 0.7637105409883608, 'flooding_any': 0.8472072540069087, 'flooding_structures': 0.8347202445581658, 'roads_any': 0.9867970574677236, 'roads_damage': 0.3318138258402927, 'trees_any': 0.9954129750060572, 'trees_damage': 0.8058696436384956, 'water_any': 0.9635515373780983}, 'label_f1s': {'bridges_any': 0.5373134328358209, 'buildings_any': 0.9585687382297552, 'buildings_affected_or_greater': 0.6219081272084805, 'buildings_minor_or_greater': 0.5625, 'debris_any': 0.6621621621621622, 'flooding_any': 0.6533864541832669, 'flooding_structures': 0.35294117647058826, 'roads_any': 0.9343308395677473, 'roads_damage': 0.0, 'trees_any': 0.9731379731379731, 'trees_damage': 0.5949008498583569, 'water_any': 0.898444647758463}}\n",
            "New best model saved with mAP: 0.9310\n",
            "Final Training, Epoch 2/15\n"
          ]
        },
        {
          "output_type": "stream",
          "name": "stderr",
          "text": [
            "\rTraining: 0it [00:00, ?it/s]<ipython-input-8-a45078a74e44>:32: FutureWarning: `torch.cuda.amp.autocast(args...)` is deprecated. Please use `torch.amp.autocast('cuda', args...)` instead.\n",
            "  with torch.cuda.amp.autocast():\n",
            "Training: 126it [24:59, 11.90s/it]\n",
            "Validation: 14it [03:07, 13.39s/it]\n"
          ]
        },
        {
          "output_type": "stream",
          "name": "stdout",
          "text": [
            "Validation Metrics: {'mean_ap': 0.9423650867933403, 'mean_precision': 0.9380473292425361, 'mean_recall': 0.8175574798447298, 'mean_f1': 0.8548390817039973, 'label_aps': {'bridges_any': 0.8079305298252851, 'buildings_any': 0.9936194504266922, 'buildings_affected_or_greater': 0.8532150141654973, 'buildings_minor_or_greater': 0.7670894160950684, 'debris_any': 0.7851277872386315, 'flooding_any': 0.88437043779595, 'flooding_structures': 0.8647716017376099, 'roads_any': 0.9902096033857772, 'roads_damage': 0.3991635752930742, 'trees_any': 0.9970866040555326, 'trees_damage': 0.8328968172402949, 'water_any': 0.9672304967527258}, 'label_f1s': {'bridges_any': 0.6923076923076923, 'buildings_any': 0.9633113828786454, 'buildings_affected_or_greater': 0.5533596837944664, 'buildings_minor_or_greater': 0.5333333333333333, 'debris_any': 0.6713286713286714, 'flooding_any': 0.7293233082706767, 'flooding_structures': 0.55, 'roads_any': 0.9471919530595139, 'roads_damage': 0.04081632653061224, 'trees_any': 0.9739130434782609, 'trees_damage': 0.6131805157593123, 'water_any': 0.8990654205607477}}\n",
            "New best model saved with mAP: 0.9424\n",
            "Final Training, Epoch 3/15\n"
          ]
        },
        {
          "output_type": "stream",
          "name": "stderr",
          "text": [
            "\rTraining: 0it [00:00, ?it/s]<ipython-input-8-a45078a74e44>:32: FutureWarning: `torch.cuda.amp.autocast(args...)` is deprecated. Please use `torch.amp.autocast('cuda', args...)` instead.\n",
            "  with torch.cuda.amp.autocast():\n",
            "Training: 126it [25:15, 12.03s/it]\n",
            "Validation: 14it [03:28, 14.87s/it]\n"
          ]
        },
        {
          "output_type": "stream",
          "name": "stdout",
          "text": [
            "Validation Metrics: {'mean_ap': 0.9435797858835431, 'mean_precision': 0.9431479546280177, 'mean_recall': 0.8196476560167214, 'mean_f1': 0.8572191172589526, 'label_aps': {'bridges_any': 0.8461262629939503, 'buildings_any': 0.9931104128362316, 'buildings_affected_or_greater': 0.8530847330076461, 'buildings_minor_or_greater': 0.7691537352321396, 'debris_any': 0.8023044149586069, 'flooding_any': 0.877142215689506, 'flooding_structures': 0.8406164045389043, 'roads_any': 0.9895520588706571, 'roads_damage': 0.41391934212826664, 'trees_any': 0.9974059953458457, 'trees_damage': 0.8434748349133119, 'water_any': 0.9679172893548745}, 'label_f1s': {'bridges_any': 0.8, 'buildings_any': 0.9686013320647003, 'buildings_affected_or_greater': 0.5758754863813229, 'buildings_minor_or_greater': 0.5057471264367817, 'debris_any': 0.6330935251798561, 'flooding_any': 0.7153846153846154, 'flooding_structures': 0.55, 'roads_any': 0.9451114922813036, 'roads_damage': 0.04081632653061224, 'trees_any': 0.9748743718592965, 'trees_damage': 0.5934718100890207, 'water_any': 0.9137323943661971}}\n",
            "New best model saved with mAP: 0.9436\n",
            "Final Training, Epoch 4/15\n"
          ]
        },
        {
          "output_type": "stream",
          "name": "stderr",
          "text": [
            "\rTraining: 0it [00:00, ?it/s]<ipython-input-8-a45078a74e44>:32: FutureWarning: `torch.cuda.amp.autocast(args...)` is deprecated. Please use `torch.amp.autocast('cuda', args...)` instead.\n",
            "  with torch.cuda.amp.autocast():\n",
            "Training: 126it [25:02, 11.92s/it]\n",
            "Validation: 14it [03:06, 13.31s/it]\n"
          ]
        },
        {
          "output_type": "stream",
          "name": "stdout",
          "text": [
            "Validation Metrics: {'mean_ap': 0.9466104554910971, 'mean_precision': 0.9360499527419766, 'mean_recall': 0.8441325768886234, 'mean_f1': 0.8753384018280576, 'label_aps': {'bridges_any': 0.8249449273156533, 'buildings_any': 0.993647658336823, 'buildings_affected_or_greater': 0.8883045401801188, 'buildings_minor_or_greater': 0.7758717156969628, 'debris_any': 0.7964488335429845, 'flooding_any': 0.8842321340878166, 'flooding_structures': 0.874072866706727, 'roads_any': 0.9905582807150661, 'roads_damage': 0.43192364688428786, 'trees_any': 0.9978514866465127, 'trees_damage': 0.8362588754450035, 'water_any': 0.9705032322949123}, 'label_f1s': {'bridges_any': 0.7555555555555555, 'buildings_any': 0.9640831758034026, 'buildings_affected_or_greater': 0.7315436241610739, 'buildings_minor_or_greater': 0.6326530612244898, 'debris_any': 0.6883116883116883, 'flooding_any': 0.7808219178082192, 'flooding_structures': 0.7422680412371134, 'roads_any': 0.946817785527463, 'roads_damage': 0.18518518518518517, 'trees_any': 0.978274363749224, 'trees_damage': 0.5653495440729484, 'water_any': 0.910873440285205}}\n",
            "New best model saved with mAP: 0.9466\n",
            "Final Training, Epoch 5/15\n"
          ]
        },
        {
          "output_type": "stream",
          "name": "stderr",
          "text": [
            "\rTraining: 0it [00:00, ?it/s]<ipython-input-8-a45078a74e44>:32: FutureWarning: `torch.cuda.amp.autocast(args...)` is deprecated. Please use `torch.amp.autocast('cuda', args...)` instead.\n",
            "  with torch.cuda.amp.autocast():\n",
            "Training: 126it [25:15, 12.03s/it]\n",
            "Validation: 14it [03:30, 15.01s/it]\n"
          ]
        },
        {
          "output_type": "stream",
          "name": "stdout",
          "text": [
            "Validation Metrics: {'mean_ap': 0.9456178063223948, 'mean_precision': 0.9263088223694105, 'mean_recall': 0.8707076739325171, 'mean_f1': 0.8920907385849205, 'label_aps': {'bridges_any': 0.822794489210805, 'buildings_any': 0.9940706152364824, 'buildings_affected_or_greater': 0.8832875590496276, 'buildings_minor_or_greater': 0.7969479740665214, 'debris_any': 0.7898724526183072, 'flooding_any': 0.8764825490013433, 'flooding_structures': 0.8696776285871005, 'roads_any': 0.9907041570471742, 'roads_damage': 0.43396419874816844, 'trees_any': 0.9969954166166157, 'trees_damage': 0.8353653933834709, 'water_any': 0.9685836651224594}, 'label_f1s': {'bridges_any': 0.7789473684210526, 'buildings_any': 0.9707822808671065, 'buildings_affected_or_greater': 0.78419452887538, 'buildings_minor_or_greater': 0.64, 'debris_any': 0.725, 'flooding_any': 0.7766323024054983, 'flooding_structures': 0.7755102040816326, 'roads_any': 0.9494097807757167, 'roads_damage': 0.27586206896551724, 'trees_any': 0.9833024118738405, 'trees_damage': 0.7412587412587412, 'water_any': 0.8882575757575758}}\n",
            "Final Training, Epoch 6/15\n"
          ]
        },
        {
          "output_type": "stream",
          "name": "stderr",
          "text": [
            "\rTraining: 0it [00:00, ?it/s]<ipython-input-8-a45078a74e44>:32: FutureWarning: `torch.cuda.amp.autocast(args...)` is deprecated. Please use `torch.amp.autocast('cuda', args...)` instead.\n",
            "  with torch.cuda.amp.autocast():\n",
            "Training: 126it [24:59, 11.90s/it]\n",
            "Validation: 14it [03:07, 13.42s/it]\n"
          ]
        },
        {
          "output_type": "stream",
          "name": "stdout",
          "text": [
            "Validation Metrics: {'mean_ap': 0.9461413234605608, 'mean_precision': 0.9018397260969916, 'mean_recall': 0.9089280382203643, 'mean_f1': 0.9031433382627045, 'label_aps': {'bridges_any': 0.8443010655826265, 'buildings_any': 0.9945456035595165, 'buildings_affected_or_greater': 0.8881345401836201, 'buildings_minor_or_greater': 0.7926062824302396, 'debris_any': 0.8066491194164893, 'flooding_any': 0.8824800432541298, 'flooding_structures': 0.8887046227361773, 'roads_any': 0.9902739553838897, 'roads_damage': 0.48911176779634113, 'trees_any': 0.9967400470387731, 'trees_damage': 0.822589560368953, 'water_any': 0.9634498498362033}, 'label_f1s': {'bridges_any': 0.8043478260869565, 'buildings_any': 0.9639468690702088, 'buildings_affected_or_greater': 0.815028901734104, 'buildings_minor_or_greater': 0.7256637168141593, 'debris_any': 0.7692307692307693, 'flooding_any': 0.7831325301204819, 'flooding_structures': 0.8431372549019608, 'roads_any': 0.9411764705882353, 'roads_damage': 0.3939393939393939, 'trees_any': 0.979064039408867, 'trees_damage': 0.7708333333333334, 'water_any': 0.9152542372881356}}\n",
            "Final Training, Epoch 7/15\n"
          ]
        },
        {
          "output_type": "stream",
          "name": "stderr",
          "text": [
            "\rTraining: 0it [00:00, ?it/s]<ipython-input-8-a45078a74e44>:32: FutureWarning: `torch.cuda.amp.autocast(args...)` is deprecated. Please use `torch.amp.autocast('cuda', args...)` instead.\n",
            "  with torch.cuda.amp.autocast():\n",
            "Training: 126it [25:19, 12.06s/it]\n",
            "Validation: 14it [03:28, 14.86s/it]\n"
          ]
        },
        {
          "output_type": "stream",
          "name": "stdout",
          "text": [
            "Validation Metrics: {'mean_ap': 0.9471715927896598, 'mean_precision': 0.8832848579130733, 'mean_recall': 0.924753657808301, 'mean_f1': 0.9012046229173155, 'label_aps': {'bridges_any': 0.8339063003634797, 'buildings_any': 0.9947738129019914, 'buildings_affected_or_greater': 0.8908268131204438, 'buildings_minor_or_greater': 0.7778876402977605, 'debris_any': 0.805658212598173, 'flooding_any': 0.8918129218042105, 'flooding_structures': 0.8831731416309045, 'roads_any': 0.9894211225205913, 'roads_damage': 0.4997551066171238, 'trees_any': 0.996089383682472, 'trees_damage': 0.8249659837376476, 'water_any': 0.9689979409618606}, 'label_f1s': {'bridges_any': 0.7474747474747475, 'buildings_any': 0.969639468690702, 'buildings_affected_or_greater': 0.8068181818181818, 'buildings_minor_or_greater': 0.6846846846846847, 'debris_any': 0.7391304347826086, 'flooding_any': 0.7857142857142857, 'flooding_structures': 0.8288288288288288, 'roads_any': 0.947107438016529, 'roads_damage': 0.5185185185185185, 'trees_any': 0.9797172710510141, 'trees_damage': 0.7381818181818182, 'water_any': 0.9119718309859155}}\n",
            "New best model saved with mAP: 0.9472\n",
            "Final Training, Epoch 8/15\n"
          ]
        },
        {
          "output_type": "stream",
          "name": "stderr",
          "text": [
            "\rTraining: 0it [00:00, ?it/s]<ipython-input-8-a45078a74e44>:32: FutureWarning: `torch.cuda.amp.autocast(args...)` is deprecated. Please use `torch.amp.autocast('cuda', args...)` instead.\n",
            "  with torch.cuda.amp.autocast():\n",
            "Training: 126it [25:09, 11.98s/it]\n",
            "Validation: 14it [03:07, 13.39s/it]\n"
          ]
        },
        {
          "output_type": "stream",
          "name": "stdout",
          "text": [
            "Validation Metrics: {'mean_ap': 0.9448811915028206, 'mean_precision': 0.8878501825721049, 'mean_recall': 0.923260674828307, 'mean_f1': 0.9018363808829445, 'label_aps': {'bridges_any': 0.8548660733329855, 'buildings_any': 0.9909169160915078, 'buildings_affected_or_greater': 0.8992919000300477, 'buildings_minor_or_greater': 0.7641878387074408, 'debris_any': 0.7652019081740548, 'flooding_any': 0.8931566858349234, 'flooding_structures': 0.9044120387022913, 'roads_any': 0.9890762377893575, 'roads_damage': 0.46053419265697526, 'trees_any': 0.9950188790248704, 'trees_damage': 0.8202010437647077, 'water_any': 0.9669786457503465}, 'label_f1s': {'bridges_any': 0.7142857142857143, 'buildings_any': 0.9690140845070423, 'buildings_affected_or_greater': 0.8184438040345822, 'buildings_minor_or_greater': 0.62, 'debris_any': 0.75, 'flooding_any': 0.8103448275862069, 'flooding_structures': 0.8703703703703703, 'roads_any': 0.9405052974735126, 'roads_damage': 0.4166666666666667, 'trees_any': 0.9821538461538462, 'trees_damage': 0.7471698113207547, 'water_any': 0.9180616740088106}}\n",
            "Final Training, Epoch 9/15\n"
          ]
        },
        {
          "output_type": "stream",
          "name": "stderr",
          "text": [
            "\rTraining: 0it [00:00, ?it/s]<ipython-input-8-a45078a74e44>:32: FutureWarning: `torch.cuda.amp.autocast(args...)` is deprecated. Please use `torch.amp.autocast('cuda', args...)` instead.\n",
            "  with torch.cuda.amp.autocast():\n",
            "Training: 126it [25:31, 12.15s/it]\n",
            "Validation: 14it [03:29, 14.95s/it]\n"
          ]
        },
        {
          "output_type": "stream",
          "name": "stdout",
          "text": [
            "Validation Metrics: {'mean_ap': 0.9438831386005319, 'mean_precision': 0.890344535848109, 'mean_recall': 0.9089280382203643, 'mean_f1': 0.8958749526903993, 'label_aps': {'bridges_any': 0.8174687482861946, 'buildings_any': 0.9842003007841924, 'buildings_affected_or_greater': 0.8847486651034834, 'buildings_minor_or_greater': 0.7723879949961351, 'debris_any': 0.7686787067493558, 'flooding_any': 0.8884252650953833, 'flooding_structures': 0.8979922751434377, 'roads_any': 0.9900542991958773, 'roads_damage': 0.5009532675382895, 'trees_any': 0.9948776817504971, 'trees_damage': 0.8258053568345683, 'water_any': 0.969220481288845}, 'label_f1s': {'bridges_any': 0.7130434782608696, 'buildings_any': 0.967741935483871, 'buildings_affected_or_greater': 0.7654320987654321, 'buildings_minor_or_greater': 0.66, 'debris_any': 0.7272727272727273, 'flooding_any': 0.7800586510263929, 'flooding_structures': 0.8380952380952381, 'roads_any': 0.9432098765432099, 'roads_damage': 0.4383561643835616, 'trees_any': 0.9748928352725046, 'trees_damage': 0.7495145631067961, 'water_any': 0.9166666666666666}}\n",
            "Final Training, Epoch 10/15\n"
          ]
        },
        {
          "output_type": "stream",
          "name": "stderr",
          "text": [
            "\rTraining: 0it [00:00, ?it/s]<ipython-input-8-a45078a74e44>:32: FutureWarning: `torch.cuda.amp.autocast(args...)` is deprecated. Please use `torch.amp.autocast('cuda', args...)` instead.\n",
            "  with torch.cuda.amp.autocast():\n",
            "Training: 126it [25:22, 12.08s/it]\n",
            "Validation: 14it [03:08, 13.48s/it]"
          ]
        },
        {
          "output_type": "stream",
          "name": "stdout",
          "text": [
            "Validation Metrics: {'mean_ap': 0.9450591180584627, 'mean_precision': 0.9020170771533885, 'mean_recall': 0.9020603165123917, 'mean_f1': 0.8998931978925744, 'label_aps': {'bridges_any': 0.8707753685493205, 'buildings_any': 0.983355809386273, 'buildings_affected_or_greater': 0.8884763562213003, 'buildings_minor_or_greater': 0.7695566513929748, 'debris_any': 0.7642905467741997, 'flooding_any': 0.8903583035532204, 'flooding_structures': 0.9145644863564291, 'roads_any': 0.9871233698219407, 'roads_damage': 0.5209478527875925, 'trees_any': 0.9962796627208002, 'trees_damage': 0.8269515480186858, 'water_any': 0.9688784245869783}, 'label_f1s': {'bridges_any': 0.7884615384615384, 'buildings_any': 0.9631728045325779, 'buildings_affected_or_greater': 0.774390243902439, 'buildings_minor_or_greater': 0.6355140186915887, 'debris_any': 0.7262569832402235, 'flooding_any': 0.7988980716253443, 'flooding_structures': 0.8256880733944955, 'roads_any': 0.9491525423728814, 'roads_damage': 0.4444444444444444, 'trees_any': 0.978328173374613, 'trees_damage': 0.7612612612612613, 'water_any': 0.9177718832891246}}\n",
            "Early stopping triggered during final training.\n"
          ]
        },
        {
          "output_type": "stream",
          "name": "stderr",
          "text": [
            "\n"
          ]
        }
      ]
    },
    {
      "cell_type": "code",
      "source": [
        "# Evaluate on test set\n",
        "test_loss, test_logits, test_labels = process_dataset(\n",
        "    final_model, ds, \"test\", label_keys, image_transforms, batch_size=best_params[\"batch_size\"]\n",
        ")\n"
      ],
      "metadata": {
        "id": "92qlCD_-JzZ6",
        "colab": {
          "base_uri": "https://localhost:8080/"
        },
        "outputId": "208318cf-0a80-4240-a717-4d15876f041c"
      },
      "execution_count": null,
      "outputs": [
        {
          "output_type": "stream",
          "name": "stderr",
          "text": [
            "Validation: 17it [03:59, 14.08s/it]\n"
          ]
        }
      ]
    },
    {
      "cell_type": "code",
      "source": [
        "test_metrics = multi_label_metrics(test_logits, test_labels.numpy(), label_keys)\n",
        "print(f\"Test Metrics: {test_metrics}\")"
      ],
      "metadata": {
        "id": "JI1rm6eYJ-Ej",
        "colab": {
          "base_uri": "https://localhost:8080/"
        },
        "outputId": "f376a8f8-88d8-40f9-85a9-15ef55768939"
      },
      "execution_count": null,
      "outputs": [
        {
          "output_type": "stream",
          "name": "stdout",
          "text": [
            "Test Metrics: {'mean_ap': 0.9358319232425576, 'mean_precision': 0.8943476012954142, 'mean_recall': 0.8860208816705336, 'mean_f1': 0.8873895620341293, 'label_aps': {'bridges_any': 0.7043559862041444, 'buildings_any': 0.9842972066618617, 'buildings_affected_or_greater': 0.7072538123012451, 'buildings_minor_or_greater': 0.725720862696994, 'debris_any': 0.6954187820375122, 'flooding_any': 0.6206667841562463, 'flooding_structures': 0.3521433648082837, 'roads_any': 0.9688433380835724, 'roads_damage': 0.1193418948805612, 'trees_any': 0.9957081619718413, 'trees_damage': 0.5814604099602392, 'water_any': 0.9196310651592996}, 'label_f1s': {'bridges_any': 0.6119402985074627, 'buildings_any': 0.9494418910045962, 'buildings_affected_or_greater': 0.6136363636363636, 'buildings_minor_or_greater': 0.5454545454545454, 'debris_any': 0.6153846153846154, 'flooding_any': 0.5454545454545454, 'flooding_structures': 0.47058823529411764, 'roads_any': 0.9155609167671894, 'roads_damage': 0.11764705882352941, 'trees_any': 0.9657320872274143, 'trees_damage': 0.5363128491620112, 'water_any': 0.837914691943128}}\n"
          ]
        }
      ]
    },
    {
      "cell_type": "code",
      "source": [
        "# Display label-specific mAP\n",
        "print(\"Label-wise mAP:\")\n",
        "for label, ap in test_metrics[\"label_aps\"].items():\n",
        "    print(f\"{label}: {ap:.4f}\")"
      ],
      "metadata": {
        "id": "wdiz2ZPdKMUv",
        "colab": {
          "base_uri": "https://localhost:8080/"
        },
        "outputId": "dc18e9cd-5e69-431b-f0dc-de4d5f3b04f0"
      },
      "execution_count": null,
      "outputs": [
        {
          "output_type": "stream",
          "name": "stdout",
          "text": [
            "Label-wise mAP:\n",
            "bridges_any: 0.7044\n",
            "buildings_any: 0.9843\n",
            "buildings_affected_or_greater: 0.7073\n",
            "buildings_minor_or_greater: 0.7257\n",
            "debris_any: 0.6954\n",
            "flooding_any: 0.6207\n",
            "flooding_structures: 0.3521\n",
            "roads_any: 0.9688\n",
            "roads_damage: 0.1193\n",
            "trees_any: 0.9957\n",
            "trees_damage: 0.5815\n",
            "water_any: 0.9196\n"
          ]
        }
      ]
    },
    {
      "cell_type": "code",
      "source": [
        "# Display label-specific F1 scores\n",
        "print(\"\\nLabel-wise F1 Scores:\")\n",
        "for label, f1 in test_metrics[\"label_f1s\"].items():\n",
        "    print(f\"{label}: {f1:.4f}\")"
      ],
      "metadata": {
        "id": "76YFA2k1OyK1",
        "colab": {
          "base_uri": "https://localhost:8080/"
        },
        "outputId": "cdb3c536-a4d4-4cce-a374-1bafc7528dd4"
      },
      "execution_count": null,
      "outputs": [
        {
          "output_type": "stream",
          "name": "stdout",
          "text": [
            "\n",
            "Label-wise F1 Scores:\n",
            "bridges_any: 0.6119\n",
            "buildings_any: 0.9494\n",
            "buildings_affected_or_greater: 0.6136\n",
            "buildings_minor_or_greater: 0.5455\n",
            "debris_any: 0.6154\n",
            "flooding_any: 0.5455\n",
            "flooding_structures: 0.4706\n",
            "roads_any: 0.9156\n",
            "roads_damage: 0.1176\n",
            "trees_any: 0.9657\n",
            "trees_damage: 0.5363\n",
            "water_any: 0.8379\n"
          ]
        }
      ]
    }
  ]
}